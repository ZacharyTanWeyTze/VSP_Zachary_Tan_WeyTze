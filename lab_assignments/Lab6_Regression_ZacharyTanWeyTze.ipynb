{
  "cells": [
    {
      "cell_type": "markdown",
      "id": "56fb16cb",
      "metadata": {
        "id": "56fb16cb"
      },
      "source": [
        "## Lab Assignment 6 -- Regression\n",
        "In this lab, you will complete an exercises related to the lecture material on regression. Then, you will compete with your fellow classmates to see who can best predict housing prices.\n",
        "\n",
        "**IMPORTANT:** Before submitting, make sure you restart the kernel and run all cells sequentially. After all cells have executed, then save the file for submission.  This is very important for grading."
      ]
    },
    {
      "cell_type": "code",
      "id": "3fa22484",
      "metadata": {
        "id": "3fa22484"
      },
      "source": [
        "# Don't change this line\n",
        "import numpy as np\n",
        "import matplotlib.pyplot as plt\n",
        "from sklearn import metrics\n",
        "import pandas as pd\n",
        "np.random.seed(35)"
      ],
      "outputs": [],
      "execution_count": 1
    },
    {
      "cell_type": "markdown",
      "id": "a8137271",
      "metadata": {
        "id": "a8137271"
      },
      "source": [
        "## Exercise 1 -- Generating & Analyzing Fake Data\n",
        "In this exercise, we will generate some fake data as we did in the lecture on regression trees. Then, we will use it on a series of regression problems."
      ]
    },
    {
      "cell_type": "markdown",
      "id": "509af2e9",
      "metadata": {
        "id": "509af2e9"
      },
      "source": [
        "## Exercise 1a -- Generating the Data\n",
        "Complete the following steps:\n",
        "1. Define a function called `generate_data` that takes two arguments, an integer `n` and a boolean `square`. `square` should have a default argument of `False`.\n",
        "2. Generate an array called `X` and set it equal to `np.random.randn((n,1))`. This creates an $n$-vector of [**standard normal random variables**](https://en.wikipedia.org/wiki/Normal_distribution).\n",
        "3. Turn `X` into an $nx2$ array by concatenating it with an $n$-vector of ones (**Hint**: use `np.ones((n,1))` and `np.concatenate()`). Make sure that the array of ones serves as the first column.\n",
        "3. Define an array called `beta` and set it equal to the array [1, 3.14]\n",
        "4. Define a variable called `epsilon` and set it equal to `np.random.randn(n)*0.3`\n",
        "5. Then, using `X`, `beta`, and `epsilon`, create a variable named `y` which is equal to\n",
        "    - `np.matmul(X, beta) + epsilon` if square is `False`\n",
        "    - `np.matmul(X ** 2, beta) + epsilon` if `square` is `True`.\n",
        "    \n",
        "6. Your output should return `X`and `y`\n",
        "7. Test your function in the cell below with `n=100` and no argument for `square`. Save the output to `X100` and `y100` respectively. Afterwards, print `y100[50]`.\n",
        "\n",
        "Answer the following questions in the Markdown cell below:\n",
        "1. Is this a bivariate or multivariate linear regression model? Why?\n",
        "2. What is the purpose of  including this `epsilon`? What aspect of real data are we trying to mimic?"
      ]
    },
    {
      "cell_type": "code",
      "id": "c847213c",
      "metadata": {
        "colab": {
          "base_uri": "https://localhost:8080/"
        },
        "id": "c847213c",
        "outputId": "e6aa48b0-946e-4e6b-9e91-c1e3b3ca6d78"
      },
      "source": [
        "# Exercise 1a -- Test function and print\n",
        "def generate_data(n, square = False):\n",
        "  # Generate an n-vector of standard normal random variables\n",
        "  x = np.random.randn(n, 1)\n",
        "\n",
        "  # Concatenate an n-vector of ones to create an n x 2 array\n",
        "  x = np.concatenate((np.ones((n, 1)), x), axis=1)\n",
        "\n",
        "  # Define beta\n",
        "  beta = np.array([1, 3.14])\n",
        "\n",
        "  # Generate epsilon\n",
        "  epsilon = np.random.randn(n)*0.3\n",
        "\n",
        "  # Create y based on square argument\n",
        "  if square == False:\n",
        "    y = np.matmul(x, beta) + epsilon\n",
        "  else:\n",
        "    y = np.matmul(x ** 2, beta) + epsilon\n",
        "\n",
        "  return x, y\n",
        "\n",
        "# Test the function with n=100 and no argument for square\n",
        "X100, y100 = generate_data(100)\n",
        "print(y100[50])"
      ],
      "outputs": [
        {
          "output_type": "stream",
          "name": "stdout",
          "text": [
            "-2.855072207243597\n"
          ]
        }
      ],
      "execution_count": 2
    },
    {
      "cell_type": "markdown",
      "id": "d9d47ea4",
      "metadata": {
        "id": "d9d47ea4"
      },
      "source": [
        "### Reponse to Exercise 1a\n",
        "Zachary:\n",
        "* Q1. This is a bivariate linear regression model because it predicts the dependent variable y using two independent variables: the constant term (the column of ones) and the random variable X.\n",
        "* Q2. The purpose of including epsilon is to add random noise to the linear relationship between X and y. In real-world data, there are always unexplained variations from inherent randomness. The epsilon variable mimics these real-world randomness."
      ]
    },
    {
      "cell_type": "markdown",
      "id": "be3ee923",
      "metadata": {
        "id": "be3ee923"
      },
      "source": [
        "## Exercise 1b -- Standard Linear Regression\n",
        "Using `sklearn`, fit a linear regression model on `y100` and `X100`. When intializing your model, set `fit_intercept` equal to `False` and call your linear model `lr_model_1`. Then, print the estimated coefficients and answer the following question in the Markdown cell below.\n",
        "- What are the coefficient estimates? What values are they close to? Why does this make sense?\n",
        "\n"
      ]
    },
    {
      "cell_type": "code",
      "id": "f9955e7f",
      "metadata": {
        "colab": {
          "base_uri": "https://localhost:8080/"
        },
        "id": "f9955e7f",
        "outputId": "0cac1966-ecaa-4173-8ec1-661992a73548"
      },
      "source": [
        "# Exercise 1b -- fit regression\n",
        "# Import the LR model from sklearn\n",
        "from sklearn import linear_model\n",
        "\n",
        "# Initialize model\n",
        "lr_model_1 = linear_model.LinearRegression(fit_intercept=False)\n",
        "\n",
        "# Fit model using X100 and y100\n",
        "lr_model_1.fit(X100, y100)\n",
        "\n",
        "# Print coefficients\n",
        "beta_0 = lr_model_1.intercept_\n",
        "beta_1 = lr_model_1.coef_[0]\n",
        "\n",
        "print(f\"lr_model_1: y = {beta_0:.4f} + {beta_1:.4f} X\")"
      ],
      "outputs": [
        {
          "output_type": "stream",
          "name": "stdout",
          "text": [
            "lr_model_1: y = 0.0000 + 1.0134 X\n"
          ]
        }
      ],
      "execution_count": 3
    },
    {
      "cell_type": "markdown",
      "id": "d0d5d044",
      "metadata": {
        "id": "d0d5d044"
      },
      "source": [
        "### Response to Exercise 1b\n",
        "Zachary: The constant is 0 and the coefificent of X is 1.0134 (4 d.p). They are close to 0 and 1 respectively. The constant of 0 makes sense because we asked the LR model to use no intercept, thus when X = 0, y = 0. The coefficent of X being near 1 makes sense because the X and y values in the dataset should be about the same as they were randomly generated using similar random functions (and take on a normal distribution)."
      ]
    },
    {
      "cell_type": "markdown",
      "id": "085c9960",
      "metadata": {
        "id": "085c9960"
      },
      "source": [
        "## Exercise 1c -- Linear Regression with Quadratic Terms\n",
        "Using `generate_data(100, True)`, create two variables `y100_2` and `X100_2`. Then, repeat the steps from **Exercise 1b** above using `X100_2` and `y100_2` instead of `X_100` and `y_100`.  Call your new model `linear_model_2`.\n",
        "\n",
        "Answer the following questions in the Markdown cell below:\n",
        "\n",
        "1. What are the coefficient estimates? Are they similar to the coefficients from **Exercise 1b**? Why or why not?\n",
        "\n",
        "If your estimates were not similar, create a variable `X100_2_sq` in the third cell below that can be used instead of `X100_2` so that your estimates are similar again. Repeat the same process again but call your `lr_model_3`. Print your new estimated coefficients.\n",
        "\n",
        "In the markdown cell below, answer the following question:\n",
        "\n",
        "2. How did you modify `X100_2` to attain similar coefficients? Why did this work?"
      ]
    },
    {
      "cell_type": "code",
      "id": "be504991",
      "metadata": {
        "colab": {
          "base_uri": "https://localhost:8080/"
        },
        "id": "be504991",
        "outputId": "d18ca070-9f13-439f-ea23-b9091a2e54d6"
      },
      "source": [
        "# Exercise 1c -- generate variables and repeat regression fit\n",
        "# Create X100_2 and y100_2\n",
        "X100_2, y100_2 = generate_data(100, True)\n",
        "\n",
        "# Initialize model\n",
        "lr_model_2 = linear_model.LinearRegression(fit_intercept=False)\n",
        "\n",
        "# Fit model using X100_2 and y100_2\n",
        "lr_model_2.fit(X100_2, y100_2)\n",
        "\n",
        "# Print coefficients\n",
        "beta_0 = lr_model_2.intercept_\n",
        "beta_1 = lr_model_2.coef_[0]\n",
        "\n",
        "print(f\"lr_model_2: y = {beta_0:.4f} + {beta_1:.4f} X\")"
      ],
      "outputs": [
        {
          "output_type": "stream",
          "name": "stdout",
          "text": [
            "lr_model_2: y = 0.0000 + 3.9659 X\n"
          ]
        }
      ],
      "execution_count": 4
    },
    {
      "cell_type": "markdown",
      "id": "064117e4",
      "metadata": {
        "id": "064117e4"
      },
      "source": [
        "### Response to Exercise 1c -- Question 1\n",
        "Zachary: The constant is 0, the coefficent of X is usually between 3-5 (based on running the code mutliple times). The constant is the same but the X coefficent is not similar to that of Exercise 1b - it is instead much bigger. The y values this time have been generated and derived from X^2, so they are much larger and thus require a higher coefficient of X."
      ]
    },
    {
      "cell_type": "code",
      "id": "af3c6cd1",
      "metadata": {
        "colab": {
          "base_uri": "https://localhost:8080/"
        },
        "id": "af3c6cd1",
        "outputId": "954e3d69-9bdf-4033-9097-2a0cc15650fa"
      },
      "source": [
        "# Exercise 1c -- modify X100_2 and run new regression\n",
        "# Create X100_2_sq\n",
        "X100_2_sq = X100_2 ** 2\n",
        "\n",
        "# Initialize model\n",
        "lr_model_3 = linear_model.LinearRegression(fit_intercept=False)\n",
        "\n",
        "# Fit model using X100_2_sq and y100_2\n",
        "lr_model_3.fit(X100_2_sq, y100_2)\n",
        "\n",
        "# Print coefficients\n",
        "beta_0 = lr_model_3.intercept_\n",
        "beta_1 = lr_model_3.coef_[0]\n",
        "\n",
        "print(f\"lr_model_3: y = {beta_0:.4f} + {beta_1:.4f} X\")"
      ],
      "outputs": [
        {
          "output_type": "stream",
          "name": "stdout",
          "text": [
            "lr_model_3: y = 0.0000 + 0.9921 X\n"
          ]
        }
      ],
      "execution_count": 5
    },
    {
      "cell_type": "markdown",
      "id": "ad67e55d",
      "metadata": {
        "id": "ad67e55d"
      },
      "source": [
        "### Response to Exercise 1c -- Quesiton 2\n",
        "Zachary: I modified X100_2 by squaring it to give me X100_2_sq. The result is that the coefficient of X in lr_model_3 is close to 1 again. This works because The values of y100_2 are approximately the square of X100_2. So, squaring X100_2 will give us the case where each X100_2_sq value is close to its corresponding y100_2 value, hence why the new coefficient is roughly around 1."
      ]
    },
    {
      "cell_type": "markdown",
      "id": "bebaa1d3",
      "metadata": {
        "id": "bebaa1d3"
      },
      "source": [
        "### Exercise 1d -- Unnecessary Quadratic Terms\n",
        "Now we are going to see what happens when we estimate a model that only has linear terms using both linear and quadratic terms. Complete the following steps:\n",
        "1. Create an $nx3$ array called `X100_ext` by concatenating `X100` with a column that is equal to the square of elements in the second column. Make sure this new column is the third column. Note that `np.concatenate` requires that both arrays are of the same dimension. You may have to use the method [`.reshape()`](https://numpy.org/doc/stable/reference/generated/numpy.reshape.html).\n",
        "2. Now repeat the steps of **Exercise 1b** with `X100_ext`. Make sure you print the estimated coefficients.\n",
        "\n",
        "Answer the following questions in the Markdown cell below:\n",
        "1. Are the first two coefficients different from their respective counterparts in part **Exercise 1b**? Why do you think this is?\n",
        "2.  Is the third coeffcient close to 0 or large? Why do you think this is?\n",
        "3. Do you think these estimates are accurate?"
      ]
    },
    {
      "cell_type": "code",
      "id": "ba894f15",
      "metadata": {
        "scrolled": true,
        "id": "ba894f15"
      },
      "source": [
        "# Exercise 1d -- Create X100_ext here\n",
        "X100_ext = np.concatenate((X100[:,0].reshape(-1,1),\n",
        "                           X100[:,1].reshape(-1,1),\n",
        "                           (X100[:,1] ** 2).reshape(-1,1)), axis=1)"
      ],
      "outputs": [],
      "execution_count": 6
    },
    {
      "cell_type": "code",
      "id": "50115717",
      "metadata": {
        "id": "50115717",
        "colab": {
          "base_uri": "https://localhost:8080/"
        },
        "outputId": "405d6cab-2973-4e63-ad4b-c83e5fe54d83"
      },
      "source": [
        "# Exercise 1d -- Repeat exercise 1b here\n",
        "# Initialize model\n",
        "lr_model_4 = linear_model.LinearRegression(fit_intercept=False)\n",
        "\n",
        "# Fit model using X100_ext and y100_2\n",
        "lr_model_4.fit(X100_ext, y100)\n",
        "\n",
        "# Print coefficients\n",
        "beta_0 = lr_model_4.intercept_\n",
        "beta_1 = lr_model_4.coef_[0]\n",
        "beta_2 = lr_model_4.coef_[1]\n",
        "\n",
        "print(f\"lr_model_4: y = {beta_0:.4f} + {beta_1:.4f} X1 + {beta_2:.4f} X2\" )"
      ],
      "outputs": [
        {
          "output_type": "stream",
          "name": "stdout",
          "text": [
            "lr_model_4: y = 0.0000 + 1.0228 X1 + 3.1847 X2\n"
          ]
        }
      ],
      "execution_count": 7
    },
    {
      "cell_type": "markdown",
      "id": "a18eab25",
      "metadata": {
        "id": "a18eab25"
      },
      "source": [
        "### Response to Exercise 1d\n",
        "* Q1. The first coefficient is the same as before (0 due to there being no intercept). The second coefficient is similar to 1b (around the value 1). This is because the values for the second column in X100_ext are similar to those in y100.\n",
        "* Q2. The third coefficient is large. The relationship between y and X2 should be quadratic as y is the square of X2. The model attempts to approximately the quadratic relationship with a linear term, hence it is large.\n",
        "* Q3. These estimates are not likely accurate; the equation is trying to fit a linear relationship between the variables y, X1, and X2. However, X2 is not linearly related to y, hence there will likely be some errors and ill-fit in the equation."
      ]
    },
    {
      "cell_type": "markdown",
      "id": "7b3fd11d",
      "metadata": {
        "id": "7b3fd11d"
      },
      "source": [
        "## Exercise 1e -- Regression Plots\n",
        "Following the notes in the plotting lectures complete the following steps:\n",
        "1. Using `subplots()` initialize a figure with 4 figures in a $2x2$ grid\n",
        "2. Plot the following in the indicated location.\n",
        "    - **Top-left**  -- a line plot of `lr_model_1` and a scatter plot of the data used to generate `lr_model_1`.\n",
        "    - **Bottom-left**  -- a line plot of `lr_model_2` and a scatter plot of the data used to generate `lr_model_2`\n",
        "    - **Bottom-right** -- a line plot of `lr_model_3` and a scatter plot of the data used to generate `lr_model_3`\n",
        "    - **Top-right** -- a line plot of `lr_model_4` and a scatter plot of the data used to generate `lr_model_4`\n",
        "    \n",
        "For the plots above,\n",
        "- make your lines red,\n",
        "- title your plots (e.g. \"Linear Model 1\"),\n",
        "- use `np.linspace(-4,4,200)` as your domain when plotting the lines,\n",
        "- call `fig.tight_layout()` so your plot is not cluttered\n",
        "\n",
        "3. Using the `metrics` submodule of `sklearn`, print the `in-sample` mean squared errors of each model using f strings. Your stings should looke like this: \"MSE of Linear Model 1 is .3\"  \n",
        "**Hints:** .\n",
        "- To plot on the top left axis, you will need to work with `axes.flat[0]` . The remaining axes are indexed by 1, 2, and 3.\n",
        "- If you choose to used the `.predict()` to plot your lines, keep in mind you need to provide it with the correctly shaped input.\n",
        "- When calculating the means within a loop, it may hep to create a list that contains the four linear models.\n"
      ]
    },
    {
      "cell_type": "code",
      "id": "06bb2cad",
      "metadata": {
        "scrolled": false,
        "colab": {
          "base_uri": "https://localhost:8080/",
          "height": 676
        },
        "id": "06bb2cad",
        "outputId": "3fbe146b-a800-45bc-dd3b-a1c061264007"
      },
      "source": [
        "# Exercise 1e -- plots\n",
        "# Create domain for line plots\n",
        "domain = np.linspace(-4, 4, 200)\n",
        "\n",
        "# Intialize plots, 4 axes arranged in a 2x2 grid\n",
        "fig, axs = plt.subplots(2, 2, figsize=(8, 6))\n",
        "\n",
        "# Top-left plot\n",
        "axs.flat[0].scatter(X100[:,1], y100, color='blue')\n",
        "axs.flat[0].plot(domain, lr_model_1.predict(np.c_[np.ones(200), domain]), color='red')\n",
        "axs.flat[0].set_title('Linear Model 1')\n",
        "axs.flat[0].legend()\n",
        "\n",
        "# Bottom-left plot\n",
        "axs.flat[1].scatter(X100_2[:,1], y100_2, color='yellow')\n",
        "axs.flat[1].plot(domain, lr_model_2.predict(np.c_[np.ones(200), domain]), color='red')\n",
        "axs.flat[1].set_title('Linear Model 2')\n",
        "axs.flat[1].legend()\n",
        "\n",
        "# Bottom-right plot\n",
        "axs.flat[2].scatter(X100_2_sq[:,1], y100_2, color='green')\n",
        "axs.flat[2].plot(domain, lr_model_3.predict(np.c_[np.ones(200), domain]), color='red')\n",
        "axs.flat[2].set_title('Linear Model 3')\n",
        "axs.flat[2].legend()\n",
        "\n",
        "# Top-right plot\n",
        "axs.flat[3].scatter(X100_ext[:,1], y100, color='grey')\n",
        "axs.flat[3].plot(domain, lr_model_4.predict(np.c_[np.ones(200), domain, domain ** 2]), color='red')\n",
        "axs.flat[3].set_title('Linear Model 4')\n",
        "axs.flat[3].legend()\n",
        "\n",
        "# Fix layout and show plot\n",
        "fig.tight_layout()\n",
        "plt.show()"
      ],
      "outputs": [
        {
          "output_type": "stream",
          "name": "stderr",
          "text": [
            "WARNING:matplotlib.legend:No artists with labels found to put in legend.  Note that artists whose label start with an underscore are ignored when legend() is called with no argument.\n",
            "WARNING:matplotlib.legend:No artists with labels found to put in legend.  Note that artists whose label start with an underscore are ignored when legend() is called with no argument.\n",
            "WARNING:matplotlib.legend:No artists with labels found to put in legend.  Note that artists whose label start with an underscore are ignored when legend() is called with no argument.\n",
            "WARNING:matplotlib.legend:No artists with labels found to put in legend.  Note that artists whose label start with an underscore are ignored when legend() is called with no argument.\n"
          ]
        },
        {
          "output_type": "display_data",
          "data": {
            "text/plain": [
              "<Figure size 800x600 with 4 Axes>"
            ],
            "image/png": "[encoded data removed]"
          },
          "metadata": {}
        }
      ],
      "execution_count": 8
    },
    {
      "cell_type": "code",
      "id": "83de691e",
      "metadata": {
        "scrolled": true,
        "id": "83de691e",
        "colab": {
          "base_uri": "https://localhost:8080/"
        },
        "outputId": "e8e55ae9-3d46-4ba8-b504-49bb9dde88fb"
      },
      "source": [
        "# Exercise 1e -- mean squared errors\n",
        "# Import MSE\n",
        "from sklearn.metrics import mean_squared_error\n",
        "\n",
        "# Print MSE for each model\n",
        "y_pred_1 = lr_model_1.predict(X100)\n",
        "y_pred_2 = lr_model_2.predict(X100_2)\n",
        "y_pred_3 = lr_model_3.predict(X100_2_sq)\n",
        "y_pred_4 = lr_model_4.predict(X100_ext)\n",
        "\n",
        "print(f\"MSE of Linear Model 1 is {mean_squared_error(y100, y_pred_1):.1f}\")\n",
        "print(f\"MSE of Linear Model 2 is {mean_squared_error(y100_2, y_pred_2):.1f}\")\n",
        "print(f\"MSE of Linear Model 3 is {mean_squared_error(y100_2, y_pred_3):.1f}\")\n",
        "print(f\"MSE of Linear Model 4 is {mean_squared_error(y100_2, y_pred_4):.1f}\")"
      ],
      "outputs": [
        {
          "output_type": "stream",
          "name": "stdout",
          "text": [
            "MSE of Linear Model 1 is 0.1\n",
            "MSE of Linear Model 2 is 15.7\n",
            "MSE of Linear Model 3 is 0.1\n",
            "MSE of Linear Model 4 is 31.6\n"
          ]
        }
      ],
      "execution_count": 9
    },
    {
      "cell_type": "markdown",
      "id": "81baa272",
      "metadata": {
        "id": "81baa272"
      },
      "source": [
        "### Exercise 1f -- Functional Misspecification\n",
        "**Functional Misspecification** is used to describe the situation where the functional form of the regression model we are estimating is not the same as the functional form of the true data generating process. Answer the following question in the markdown cell below:\n",
        "- Which of the four linear models do you think are well-specified? Which ones are not? Is including extra terms problematic when it comes to being well-specified. What about excluding the terms found in the true data generating process?\n",
        "- How does misspecification manifest itself in the plots? How about in the mean squared errors?\n",
        "- After doing this exercise, do you think it is important to investigate the relationship between variables before determining your regression specification? Why or why not?"
      ]
    },
    {
      "cell_type": "markdown",
      "id": "03d3f378",
      "metadata": {
        "id": "03d3f378"
      },
      "source": [
        "### Response to Exercise 1f\n",
        "Zachary:\n",
        "* LR 1 and LR 3 are well specified. LR 2 and LR 4 are not. No, including extra terms is fine (for instance, in multiple linear regression), provided those terms still follow the linear assumption.\n",
        "* LR 2's data points form a U shape rather than a straight line (negative values of X having corresponding positive values of y due to squaring). LR 2 and LR 4 have higher MSEs than LR 1 and 3.\n",
        "* Yes. it is important. LR 2 and LR 4 models are problematic because the X values do not have a linear relationship with y values. Using linear regression equation on them has caused problems. Therefore, it is important to investigate the relationship between the dependenet and independent variables to know which regression type to use to ensure an accurate model."
      ]
    },
    {
      "cell_type": "markdown",
      "id": "77c7d5c8",
      "metadata": {
        "id": "77c7d5c8"
      },
      "source": [
        "### Exercise 1g -- Lasso\n",
        "Finally, we will run lasso on our fake data. Complete the following steps:\n",
        "1. Generate `X1000` and `y1000` using `generate_data(1000)`\n",
        "2. Create an `1000x3` array called `X1000_ext` which is created in a anaglous fashion to `X100_ext`.\n",
        "3. Follow the lecture notes to create a standardized version of `X1000_ext` called `X1000_ext_scl`. You will need to import the `preprocessing` submodule of sklearn.\n",
        "4. Check to make sure your means and variances. You should see that everything looks good except for our intercept has a variance of $0$. You actually do not want to standardize an intercept but we still need it! Replace the first column of  `X1000_ext_scl` with a fresh column of ones using `np.ones(1000)`.\n",
        "5. Create a dataframe version of `X1000_ext_scl` called `X_lasso_df` and rename the columns to \"intercept\", \"x\", and \"x_sq\" respectively.Then call `X_lasso_df` at the bottom of the cell.\n",
        "6. Copy and paste the Lasso path code from the lecture notes into the second cell below. Adapt it so it works for `X_lasso_df` and `y1000`.\n",
        "\n",
        "\n",
        "In the Markdown cell below, answer the following questions:\n",
        "1. Characterize `X_sq`'s lasso path. Why was this behavior predictable?    Reference linear model 4 or the true DGP in your answer.\n",
        "2. Without checking, do you think a low or high value for alpha would be chosen by cross validation? To help you answer this question, think about what the true coefficients are and whether or not higher alphas bring the lasso coefficients closer to their true counterparts or farther away."
      ]
    },
    {
      "cell_type": "code",
      "id": "c250202b",
      "metadata": {
        "scrolled": false,
        "id": "c250202b",
        "colab": {
          "base_uri": "https://localhost:8080/",
          "height": 458
        },
        "outputId": "8047c738-45b2-4e3e-aef2-749210ebe8bd"
      },
      "source": [
        "# Exercise 1g -- Steps 1-5\n",
        "from sklearn import preprocessing\n",
        "\n",
        "X1000, y1000 = generate_data(1000)\n",
        "X1000_ext = np.concatenate((X1000[:,0].reshape(-1,1),\n",
        "                           X1000[:,1].reshape(-1,1),\n",
        "                           (X1000[:,1] ** 2).reshape(-1,1)), axis=1)\n",
        "\n",
        "\n",
        "# Standardize the data from X1000_ext\n",
        "scaler = preprocessing.StandardScaler().fit(X1000_ext)\n",
        "X1000_ext_scl = scaler.transform(X1000_ext)\n",
        "\n",
        "# Check mean and variance\n",
        "print(X1000_ext_scl.var(axis = 0))\n",
        "print(X1000_ext_scl.mean(axis = 0))\n",
        "\n",
        "# Replace first column with ones\n",
        "X1000_ext_scl[:,0] = np.ones(1000)\n",
        "\n",
        "X_lasso_df = pd.DataFrame(X1000_ext_scl, columns=[\"intercept\", \"x\", \"x_sq\"])\n",
        "X_lasso_df"
      ],
      "outputs": [
        {
          "output_type": "stream",
          "name": "stdout",
          "text": [
            "[0. 1. 1.]\n",
            "[0.00000000e+00 2.69784195e-17 7.70494779e-17]\n"
          ]
        },
        {
          "output_type": "execute_result",
          "data": {
            "text/plain": [
              "     intercept         x      x_sq\n",
              "0          1.0 -0.524930 -0.524031\n",
              "1          1.0  1.552270  0.992600\n",
              "2          1.0 -0.654974 -0.400776\n",
              "3          1.0 -1.091785  0.201461\n",
              "4          1.0 -0.239695 -0.704329\n",
              "..         ...       ...       ...\n",
              "995        1.0 -1.243026  0.477589\n",
              "996        1.0 -0.430610 -0.597340\n",
              "997        1.0  0.615512 -0.503483\n",
              "998        1.0 -0.621270 -0.435188\n",
              "999        1.0 -0.533116 -0.517030\n",
              "\n",
              "[1000 rows x 3 columns]"
            ],
            "text/html": [
              "\n",
              "  <div id=\"df-98ab7954-6242-465c-b54b-135d79a1088e\" class=\"colab-df-container\">\n",
              "    <div>\n",
              "<style scoped>\n",
              "    .dataframe tbody tr th:only-of-type {\n",
              "        vertical-align: middle;\n",
              "    }\n",
              "\n",
              "    .dataframe tbody tr th {\n",
              "        vertical-align: top;\n",
              "    }\n",
              "\n",
              "    .dataframe thead th {\n",
              "        text-align: right;\n",
              "    }\n",
              "</style>\n",
              "<table border=\"1\" class=\"dataframe\">\n",
              "  <thead>\n",
              "    <tr style=\"text-align: right;\">\n",
              "      <th></th>\n",
              "      <th>intercept</th>\n",
              "      <th>x</th>\n",
              "      <th>x_sq</th>\n",
              "    </tr>\n",
              "  </thead>\n",
              "  <tbody>\n",
              "    <tr>\n",
              "      <th>0</th>\n",
              "      <td>1.0</td>\n",
              "      <td>-0.524930</td>\n",
              "      <td>-0.524031</td>\n",
              "    </tr>\n",
              "    <tr>\n",
              "      <th>1</th>\n",
              "      <td>1.0</td>\n",
              "      <td>1.552270</td>\n",
              "      <td>0.992600</td>\n",
              "    </tr>\n",
              "    <tr>\n",
              "      <th>2</th>\n",
              "      <td>1.0</td>\n",
              "      <td>-0.654974</td>\n",
              "      <td>-0.400776</td>\n",
              "    </tr>\n",
              "    <tr>\n",
              "      <th>3</th>\n",
              "      <td>1.0</td>\n",
              "      <td>-1.091785</td>\n",
              "      <td>0.201461</td>\n",
              "    </tr>\n",
              "    <tr>\n",
              "      <th>4</th>\n",
              "      <td>1.0</td>\n",
              "      <td>-0.239695</td>\n",
              "      <td>-0.704329</td>\n",
              "    </tr>\n",
              "    <tr>\n",
              "      <th>...</th>\n",
              "      <td>...</td>\n",
              "      <td>...</td>\n",
              "      <td>...</td>\n",
              "    </tr>\n",
              "    <tr>\n",
              "      <th>995</th>\n",
              "      <td>1.0</td>\n",
              "      <td>-1.243026</td>\n",
              "      <td>0.477589</td>\n",
              "    </tr>\n",
              "    <tr>\n",
              "      <th>996</th>\n",
              "      <td>1.0</td>\n",
              "      <td>-0.430610</td>\n",
              "      <td>-0.597340</td>\n",
              "    </tr>\n",
              "    <tr>\n",
              "      <th>997</th>\n",
              "      <td>1.0</td>\n",
              "      <td>0.615512</td>\n",
              "      <td>-0.503483</td>\n",
              "    </tr>\n",
              "    <tr>\n",
              "      <th>998</th>\n",
              "      <td>1.0</td>\n",
              "      <td>-0.621270</td>\n",
              "      <td>-0.435188</td>\n",
              "    </tr>\n",
              "    <tr>\n",
              "      <th>999</th>\n",
              "      <td>1.0</td>\n",
              "      <td>-0.533116</td>\n",
              "      <td>-0.517030</td>\n",
              "    </tr>\n",
              "  </tbody>\n",
              "</table>\n",
              "<p>1000 rows × 3 columns</p>\n",
              "</div>\n",
              "    <div class=\"colab-df-buttons\">\n",
              "\n",
              "  <div class=\"colab-df-container\">\n",
              "    <button class=\"colab-df-convert\" onclick=\"convertToInteractive('df-98ab7954-6242-465c-b54b-135d79a1088e')\"\n",
              "            title=\"Convert this dataframe to an interactive table.\"\n",
              "            style=\"display:none;\">\n",
              "\n",
              "  <svg xmlns=\"http://www.w3.org/2000/svg\" height=\"24px\" viewBox=\"0 -960 960 960\">\n",
              "    <path d=\"M120-120v-720h720v720H120Zm60-500h600v-160H180v160Zm220 220h160v-160H400v160Zm0 220h160v-160H400v160ZM180-400h160v-160H180v160Zm440 0h160v-160H620v160ZM180-180h160v-160H180v160Zm440 0h160v-160H620v160Z\"/>\n",
              "  </svg>\n",
              "    </button>\n",
              "\n",
              "  <style>\n",
              "    .colab-df-container {\n",
              "      display:flex;\n",
              "      gap: 12px;\n",
              "    }\n",
              "\n",
              "    .colab-df-convert {\n",
              "      background-color: #E8F0FE;\n",
              "      border: none;\n",
              "      border-radius: 50%;\n",
              "      cursor: pointer;\n",
              "      display: none;\n",
              "      fill: #1967D2;\n",
              "      height: 32px;\n",
              "      padding: 0 0 0 0;\n",
              "      width: 32px;\n",
              "    }\n",
              "\n",
              "    .colab-df-convert:hover {\n",
              "      background-color: #E2EBFA;\n",
              "      box-shadow: 0px 1px 2px rgba(60, 64, 67, 0.3), 0px 1px 3px 1px rgba(60, 64, 67, 0.15);\n",
              "      fill: #174EA6;\n",
              "    }\n",
              "\n",
              "    .colab-df-buttons div {\n",
              "      margin-bottom: 4px;\n",
              "    }\n",
              "\n",
              "    [theme=dark] .colab-df-convert {\n",
              "      background-color: #3B4455;\n",
              "      fill: #D2E3FC;\n",
              "    }\n",
              "\n",
              "    [theme=dark] .colab-df-convert:hover {\n",
              "      background-color: #434B5C;\n",
              "      box-shadow: 0px 1px 3px 1px rgba(0, 0, 0, 0.15);\n",
              "      filter: drop-shadow(0px 1px 2px rgba(0, 0, 0, 0.3));\n",
              "      fill: #FFFFFF;\n",
              "    }\n",
              "  </style>\n",
              "\n",
              "    <script>\n",
              "      const buttonEl =\n",
              "        document.querySelector('#df-98ab7954-6242-465c-b54b-135d79a1088e button.colab-df-convert');\n",
              "      buttonEl.style.display =\n",
              "        google.colab.kernel.accessAllowed ? 'block' : 'none';\n",
              "\n",
              "      async function convertToInteractive(key) {\n",
              "        const element = document.querySelector('#df-98ab7954-6242-465c-b54b-135d79a1088e');\n",
              "        const dataTable =\n",
              "          await google.colab.kernel.invokeFunction('convertToInteractive',\n",
              "                                                    [key], {});\n",
              "        if (!dataTable) return;\n",
              "\n",
              "        const docLinkHtml = 'Like what you see? Visit the ' +\n",
              "          '<a target=\"_blank\" href=https://colab.research.google.com/notebooks/data_table.ipynb>data table notebook</a>'\n",
              "          + ' to learn more about interactive tables.';\n",
              "        element.innerHTML = '';\n",
              "        dataTable['output_type'] = 'display_data';\n",
              "        await google.colab.output.renderOutput(dataTable, element);\n",
              "        const docLink = document.createElement('div');\n",
              "        docLink.innerHTML = docLinkHtml;\n",
              "        element.appendChild(docLink);\n",
              "      }\n",
              "    </script>\n",
              "  </div>\n",
              "\n",
              "\n",
              "<div id=\"df-3a93a591-fdc1-41b6-aefa-22860ab9c6d7\">\n",
              "  <button class=\"colab-df-quickchart\" onclick=\"quickchart('df-3a93a591-fdc1-41b6-aefa-22860ab9c6d7')\"\n",
              "            title=\"Suggest charts\"\n",
              "            style=\"display:none;\">\n",
              "\n",
              "<svg xmlns=\"http://www.w3.org/2000/svg\" height=\"24px\"viewBox=\"0 0 24 24\"\n",
              "     width=\"24px\">\n",
              "    <g>\n",
              "        <path d=\"M19 3H5c-1.1 0-2 .9-2 2v14c0 1.1.9 2 2 2h14c1.1 0 2-.9 2-2V5c0-1.1-.9-2-2-2zM9 17H7v-7h2v7zm4 0h-2V7h2v10zm4 0h-2v-4h2v4z\"/>\n",
              "    </g>\n",
              "</svg>\n",
              "  </button>\n",
              "\n",
              "<style>\n",
              "  .colab-df-quickchart {\n",
              "      --bg-color: #E8F0FE;\n",
              "      --fill-color: #1967D2;\n",
              "      --hover-bg-color: #E2EBFA;\n",
              "      --hover-fill-color: #174EA6;\n",
              "      --disabled-fill-color: #AAA;\n",
              "      --disabled-bg-color: #DDD;\n",
              "  }\n",
              "\n",
              "  [theme=dark] .colab-df-quickchart {\n",
              "      --bg-color: #3B4455;\n",
              "      --fill-color: #D2E3FC;\n",
              "      --hover-bg-color: #434B5C;\n",
              "      --hover-fill-color: #FFFFFF;\n",
              "      --disabled-bg-color: #3B4455;\n",
              "      --disabled-fill-color: #666;\n",
              "  }\n",
              "\n",
              "  .colab-df-quickchart {\n",
              "    background-color: var(--bg-color);\n",
              "    border: none;\n",
              "    border-radius: 50%;\n",
              "    cursor: pointer;\n",
              "    display: none;\n",
              "    fill: var(--fill-color);\n",
              "    height: 32px;\n",
              "    padding: 0;\n",
              "    width: 32px;\n",
              "  }\n",
              "\n",
              "  .colab-df-quickchart:hover {\n",
              "    background-color: var(--hover-bg-color);\n",
              "    box-shadow: 0 1px 2px rgba(60, 64, 67, 0.3), 0 1px 3px 1px rgba(60, 64, 67, 0.15);\n",
              "    fill: var(--button-hover-fill-color);\n",
              "  }\n",
              "\n",
              "  .colab-df-quickchart-complete:disabled,\n",
              "  .colab-df-quickchart-complete:disabled:hover {\n",
              "    background-color: var(--disabled-bg-color);\n",
              "    fill: var(--disabled-fill-color);\n",
              "    box-shadow: none;\n",
              "  }\n",
              "\n",
              "  .colab-df-spinner {\n",
              "    border: 2px solid var(--fill-color);\n",
              "    border-color: transparent;\n",
              "    border-bottom-color: var(--fill-color);\n",
              "    animation:\n",
              "      spin 1s steps(1) infinite;\n",
              "  }\n",
              "\n",
              "  @keyframes spin {\n",
              "    0% {\n",
              "      border-color: transparent;\n",
              "      border-bottom-color: var(--fill-color);\n",
              "      border-left-color: var(--fill-color);\n",
              "    }\n",
              "    20% {\n",
              "      border-color: transparent;\n",
              "      border-left-color: var(--fill-color);\n",
              "      border-top-color: var(--fill-color);\n",
              "    }\n",
              "    30% {\n",
              "      border-color: transparent;\n",
              "      border-left-color: var(--fill-color);\n",
              "      border-top-color: var(--fill-color);\n",
              "      border-right-color: var(--fill-color);\n",
              "    }\n",
              "    40% {\n",
              "      border-color: transparent;\n",
              "      border-right-color: var(--fill-color);\n",
              "      border-top-color: var(--fill-color);\n",
              "    }\n",
              "    60% {\n",
              "      border-color: transparent;\n",
              "      border-right-color: var(--fill-color);\n",
              "    }\n",
              "    80% {\n",
              "      border-color: transparent;\n",
              "      border-right-color: var(--fill-color);\n",
              "      border-bottom-color: var(--fill-color);\n",
              "    }\n",
              "    90% {\n",
              "      border-color: transparent;\n",
              "      border-bottom-color: var(--fill-color);\n",
              "    }\n",
              "  }\n",
              "</style>\n",
              "\n",
              "  <script>\n",
              "    async function quickchart(key) {\n",
              "      const quickchartButtonEl =\n",
              "        document.querySelector('#' + key + ' button');\n",
              "      quickchartButtonEl.disabled = true;  // To prevent multiple clicks.\n",
              "      quickchartButtonEl.classList.add('colab-df-spinner');\n",
              "      try {\n",
              "        const charts = await google.colab.kernel.invokeFunction(\n",
              "            'suggestCharts', [key], {});\n",
              "      } catch (error) {\n",
              "        console.error('Error during call to suggestCharts:', error);\n",
              "      }\n",
              "      quickchartButtonEl.classList.remove('colab-df-spinner');\n",
              "      quickchartButtonEl.classList.add('colab-df-quickchart-complete');\n",
              "    }\n",
              "    (() => {\n",
              "      let quickchartButtonEl =\n",
              "        document.querySelector('#df-3a93a591-fdc1-41b6-aefa-22860ab9c6d7 button');\n",
              "      quickchartButtonEl.style.display =\n",
              "        google.colab.kernel.accessAllowed ? 'block' : 'none';\n",
              "    })();\n",
              "  </script>\n",
              "</div>\n",
              "\n",
              "  <div id=\"id_957014f7-aa17-4dd6-9d62-e65eea449948\">\n",
              "    <style>\n",
              "      .colab-df-generate {\n",
              "        background-color: #E8F0FE;\n",
              "        border: none;\n",
              "        border-radius: 50%;\n",
              "        cursor: pointer;\n",
              "        display: none;\n",
              "        fill: #1967D2;\n",
              "        height: 32px;\n",
              "        padding: 0 0 0 0;\n",
              "        width: 32px;\n",
              "      }\n",
              "\n",
              "      .colab-df-generate:hover {\n",
              "        background-color: #E2EBFA;\n",
              "        box-shadow: 0px 1px 2px rgba(60, 64, 67, 0.3), 0px 1px 3px 1px rgba(60, 64, 67, 0.15);\n",
              "        fill: #174EA6;\n",
              "      }\n",
              "\n",
              "      [theme=dark] .colab-df-generate {\n",
              "        background-color: #3B4455;\n",
              "        fill: #D2E3FC;\n",
              "      }\n",
              "\n",
              "      [theme=dark] .colab-df-generate:hover {\n",
              "        background-color: #434B5C;\n",
              "        box-shadow: 0px 1px 3px 1px rgba(0, 0, 0, 0.15);\n",
              "        filter: drop-shadow(0px 1px 2px rgba(0, 0, 0, 0.3));\n",
              "        fill: #FFFFFF;\n",
              "      }\n",
              "    </style>\n",
              "    <button class=\"colab-df-generate\" onclick=\"generateWithVariable('X_lasso_df')\"\n",
              "            title=\"Generate code using this dataframe.\"\n",
              "            style=\"display:none;\">\n",
              "\n",
              "  <svg xmlns=\"http://www.w3.org/2000/svg\" height=\"24px\"viewBox=\"0 0 24 24\"\n",
              "       width=\"24px\">\n",
              "    <path d=\"M7,19H8.4L18.45,9,17,7.55,7,17.6ZM5,21V16.75L18.45,3.32a2,2,0,0,1,2.83,0l1.4,1.43a1.91,1.91,0,0,1,.58,1.4,1.91,1.91,0,0,1-.58,1.4L9.25,21ZM18.45,9,17,7.55Zm-12,3A5.31,5.31,0,0,0,4.9,8.1,5.31,5.31,0,0,0,1,6.5,5.31,5.31,0,0,0,4.9,4.9,5.31,5.31,0,0,0,6.5,1,5.31,5.31,0,0,0,8.1,4.9,5.31,5.31,0,0,0,12,6.5,5.46,5.46,0,0,0,6.5,12Z\"/>\n",
              "  </svg>\n",
              "    </button>\n",
              "    <script>\n",
              "      (() => {\n",
              "      const buttonEl =\n",
              "        document.querySelector('#id_957014f7-aa17-4dd6-9d62-e65eea449948 button.colab-df-generate');\n",
              "      buttonEl.style.display =\n",
              "        google.colab.kernel.accessAllowed ? 'block' : 'none';\n",
              "\n",
              "      buttonEl.onclick = () => {\n",
              "        google.colab.notebook.generateWithVariable('X_lasso_df');\n",
              "      }\n",
              "      })();\n",
              "    </script>\n",
              "  </div>\n",
              "\n",
              "    </div>\n",
              "  </div>\n"
            ],
            "application/vnd.google.colaboratory.intrinsic+json": {
              "type": "dataframe",
              "variable_name": "X_lasso_df",
              "summary": "{\n  \"name\": \"X_lasso_df\",\n  \"rows\": 1000,\n  \"fields\": [\n    {\n      \"column\": \"intercept\",\n      \"properties\": {\n        \"dtype\": \"number\",\n        \"std\": 0.0,\n        \"min\": 1.0,\n        \"max\": 1.0,\n        \"num_unique_values\": 1,\n        \"samples\": [\n          1.0\n        ],\n        \"semantic_type\": \"\",\n        \"description\": \"\"\n      }\n    },\n    {\n      \"column\": \"x\",\n      \"properties\": {\n        \"dtype\": \"number\",\n        \"std\": 1.0005003753127737,\n        \"min\": -2.8519135961005007,\n        \"max\": 3.7573008412558746,\n        \"num_unique_values\": 1000,\n        \"samples\": [\n          -0.2475439990991728\n        ],\n        \"semantic_type\": \"\",\n        \"description\": \"\"\n      }\n    },\n    {\n      \"column\": \"x_sq\",\n      \"properties\": {\n        \"dtype\": \"number\",\n        \"std\": 1.0005003753127741,\n        \"min\": -0.7610410523230754,\n        \"max\": 9.78063287087044,\n        \"num_unique_values\": 1000,\n        \"samples\": [\n          -0.7010224335655003\n        ],\n        \"semantic_type\": \"\",\n        \"description\": \"\"\n      }\n    }\n  ]\n}"
            }
          },
          "metadata": {},
          "execution_count": 10
        }
      ],
      "execution_count": 10
    },
    {
      "cell_type": "code",
      "id": "4cfec5de",
      "metadata": {
        "scrolled": false,
        "id": "4cfec5de",
        "colab": {
          "base_uri": "https://localhost:8080/",
          "height": 718
        },
        "outputId": "40693b12-d879-4b81-d7be-0675868d4d6e"
      },
      "source": [
        "# Exercise 1g -- Step 5 copy code here\n",
        "from itertools import cycle\n",
        "colors = ['#165aa7', '#cb495c', '#fec630', '#bb60d5', '#f47915', '#06ab54', '#002070', '#b27d12', '#007030']\n",
        "alphas = np.exp(np.linspace(-5, 1, 100))\n",
        "alphas, coefs_lasso, _ = linear_model.lasso_path(X_lasso_df, y1000, alphas=alphas, max_iter=1000000)\n",
        "\n",
        "# plotting\n",
        "fig, ax = plt.subplots(figsize=(12, 8))\n",
        "color_cycle = cycle(colors)\n",
        "log_alphas = np.log10(alphas)\n",
        "for coef_l, c, name in zip(coefs_lasso, color_cycle, list(X_lasso_df)):\n",
        "   ax.plot(log_alphas, coef_l, c=c)\n",
        "   ax.set_xlabel('Log10(alpha)')\n",
        "   ax.set_ylabel('Standardized Lasso coefficients')\n",
        "   ax.set_title('Lasso Path')\n",
        "   ax.axis('tight')\n",
        "   maxabs = np.max(np.abs(coef_l))\n",
        "   i = [idx for idx in range(len(coef_l)) if abs(coef_l[idx]) >= (0.9*maxabs)][0]\n",
        "   xnote = log_alphas[i]\n",
        "   ynote = coef_l[i]\n",
        "   ax.annotate(name, (xnote, ynote), color=c)"
      ],
      "outputs": [
        {
          "output_type": "display_data",
          "data": {
            "text/plain": [
              "<Figure size 1200x800 with 1 Axes>"
            ],
            "image/png": "[encoded data removed]"
          },
          "metadata": {}
        }
      ],
      "execution_count": 11
    },
    {
      "cell_type": "markdown",
      "source": [
        "### Response to Exercise 1g\n",
        "\n",
        "Zachary:\n",
        "* Q1. X_sq's lasso path is a straight line at 0.\n",
        "* Q2. A high value alpha."
      ],
      "metadata": {
        "id": "Rs7LwduXUa9R"
      },
      "id": "Rs7LwduXUa9R"
    }
  ],
  "metadata": {
    "kernelspec": {
      "display_name": "Python 3 (ipykernel)",
      "language": "python",
      "name": "python3"
    },
    "language_info": {
      "codemirror_mode": {
        "name": "ipython",
        "version": 3
      },
      "file_extension": ".py",
      "mimetype": "text/x-python",
      "name": "python",
      "nbconvert_exporter": "python",
      "pygments_lexer": "ipython3",
      "version": "3.9.15"
    },
    "colab": {
      "provenance": []
    }
  },
  "nbformat": 4,
  "nbformat_minor": 5
}