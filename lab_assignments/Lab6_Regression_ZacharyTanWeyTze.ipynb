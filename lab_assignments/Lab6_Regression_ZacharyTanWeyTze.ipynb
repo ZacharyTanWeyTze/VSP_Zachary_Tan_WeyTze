{
  "cells": [
    {
      "cell_type": "markdown",
      "id": "56fb16cb",
      "metadata": {
        "id": "56fb16cb"
      },
      "source": [
        "## Lab Assignment 6 -- Regression\n",
        "In this lab, you will complete an exercises related to the lecture material on regression. Then, you will compete with your fellow classmates to see who can best predict housing prices.\n",
        "\n",
        "**IMPORTANT:** Before submitting, make sure you restart the kernel and run all cells sequentially. After all cells have executed, then save the file for submission.  This is very important for grading."
      ]
    },
    {
      "cell_type": "code",
      "id": "3fa22484",
      "metadata": {
        "id": "3fa22484"
      },
      "source": [
        "# Don't change this line\n",
        "import numpy as np\n",
        "import matplotlib.pyplot as plt\n",
        "from sklearn import metrics\n",
        "import pandas as pd\n",
        "np.random.seed(35)"
      ],
      "outputs": [],
      "execution_count": 1
    },
    {
      "cell_type": "markdown",
      "id": "a8137271",
      "metadata": {
        "id": "a8137271"
      },
      "source": [
        "## Exercise 1 -- Generating & Analyzing Fake Data\n",
        "In this exercise, we will generate some fake data as we did in the lecture on regression trees. Then, we will use it on a series of regression problems."
      ]
    },
    {
      "cell_type": "markdown",
      "id": "509af2e9",
      "metadata": {
        "id": "509af2e9"
      },
      "source": [
        "## Exercise 1a -- Generating the Data\n",
        "Complete the following steps:\n",
        "1. Define a function called `generate_data` that takes two arguments, an integer `n` and a boolean `square`. `square` should have a default argument of `False`.\n",
        "2. Generate an array called `X` and set it equal to `np.random.randn((n,1))`. This creates an $n$-vector of [**standard normal random variables**](https://en.wikipedia.org/wiki/Normal_distribution).\n",
        "3. Turn `X` into an $nx2$ array by concatenating it with an $n$-vector of ones (**Hint**: use `np.ones((n,1))` and `np.concatenate()`). Make sure that the array of ones serves as the first column.\n",
        "3. Define an array called `beta` and set it equal to the array [1, 3.14]\n",
        "4. Define a variable called `epsilon` and set it equal to `np.random.randn(n)*0.3`\n",
        "5. Then, using `X`, `beta`, and `epsilon`, create a variable named `y` which is equal to\n",
        "    - `np.matmul(X, beta) + epsilon` if square is `False`\n",
        "    - `np.matmul(X ** 2, beta) + epsilon` if `square` is `True`.\n",
        "    \n",
        "6. Your output should return `X`and `y`\n",
        "7. Test your function in the cell below with `n=100` and no argument for `square`. Save the output to `X100` and `y100` respectively. Afterwards, print `y100[50]`.\n",
        "\n",
        "Answer the following questions in the Markdown cell below:\n",
        "1. Is this a bivariate or multivariate linear regression model? Why?\n",
        "2. What is the purpose of  including this `epsilon`? What aspect of real data are we trying to mimic?"
      ]
    },
    {
      "cell_type": "code",
      "id": "c847213c",
      "metadata": {
        "colab": {
          "base_uri": "https://localhost:8080/"
        },
        "id": "c847213c",
        "outputId": "a441d5d6-1027-424d-b519-cdcfb0a6fe2c"
      },
      "source": [
        "# Exercise 1a -- Test function and print\n",
        "def generate_data(n, square = False):\n",
        "  # Generate an n-vector of standard normal random variables\n",
        "  x = np.random.randn(n, 1)\n",
        "\n",
        "  # Concatenate an n-vector of ones to create an n x 2 array\n",
        "  x = np.concatenate((np.ones((n, 1)), x), axis=1)\n",
        "\n",
        "  # Define beta\n",
        "  beta = np.array([1, 3.14])\n",
        "\n",
        "  # Generate epsilon\n",
        "  epsilon = np.random.randn(n)*0.3\n",
        "\n",
        "  # Create y based on square argument\n",
        "  if square == False:\n",
        "    y = np.matmul(x, beta) + epsilon\n",
        "  else:\n",
        "    y = np.matmul(x ** 2, beta) + epsilon\n",
        "\n",
        "  return x, y\n",
        "\n",
        "# Test the function with n=100 and no argument for square\n",
        "X100, y100 = generate_data(100)\n",
        "print(y100[50])"
      ],
      "outputs": [
        {
          "output_type": "stream",
          "name": "stdout",
          "text": [
            "-2.855072207243597\n"
          ]
        }
      ],
      "execution_count": 2
    },
    {
      "cell_type": "markdown",
      "id": "d9d47ea4",
      "metadata": {
        "id": "d9d47ea4"
      },
      "source": [
        "### Reponse to Exercise 1a\n",
        "Zachary:\n",
        "* Q1. This is a bivariate linear regression model because it predicts the dependent variable y using two independent variables: the constant term (the column of ones) and the random variable X.\n",
        "* Q2. The purpose of including epsilon is to add random noise to the linear relationship between X and y. In real-world data, there are always unexplained variations from inherent randomness. The epsilon variable mimics these real-world randomness."
      ]
    },
    {
      "cell_type": "markdown",
      "id": "be3ee923",
      "metadata": {
        "id": "be3ee923"
      },
      "source": [
        "## Exercise 1b -- Standard Linear Regression\n",
        "Using `sklearn`, fit a linear regression model on `y100` and `X100`. When intializing your model, set `fit_intercept` equal to `False` and call your linear model `lr_model_1`. Then, print the estimated coefficients and answer the following question in the Markdown cell below.\n",
        "- What are the coefficient estimates? What values are they close to? Why does this make sense?\n",
        "\n"
      ]
    },
    {
      "cell_type": "code",
      "id": "f9955e7f",
      "metadata": {
        "colab": {
          "base_uri": "https://localhost:8080/"
        },
        "id": "f9955e7f",
        "outputId": "8506ab4d-f53a-48e3-856a-1e3d5e3a8e3f"
      },
      "source": [
        "# Exercise 1b -- fit regression\n",
        "# Import the LR model from sklearn\n",
        "from sklearn import linear_model\n",
        "\n",
        "# Initialize model\n",
        "lr_model_1 = linear_model.LinearRegression(fit_intercept=False)\n",
        "\n",
        "# Fit model using X100 and y100\n",
        "lr_model_1.fit(X100, y100)\n",
        "\n",
        "# Print coefficients\n",
        "beta_0 = lr_model_1.intercept_\n",
        "beta_1 = lr_model_1.coef_[0]\n",
        "\n",
        "print(f\"lr_model_1: y = {beta_0:.4f} + {beta_1:.4f} X\")"
      ],
      "outputs": [
        {
          "output_type": "stream",
          "name": "stdout",
          "text": [
            "lr_model_1: y = 0.0000 + 1.0134 X\n"
          ]
        }
      ],
      "execution_count": 3
    },
    {
      "cell_type": "markdown",
      "id": "d0d5d044",
      "metadata": {
        "id": "d0d5d044"
      },
      "source": [
        "### Response to Exercise 1b\n",
        "Zachary: The constant is 0 and the coefificent of X is 1.0134 (4 d.p). They are close to 0 and 1 respectively. The constant of 0 makes sense because we asked the LR model to use no intercept, thus when X = 0, y = 0. The coefficent of X being near 1 makes sense because the X and y values in the dataset should be about the same as they were randomly generated using similar random functions."
      ]
    },
    {
      "cell_type": "markdown",
      "id": "085c9960",
      "metadata": {
        "id": "085c9960"
      },
      "source": [
        "## Exercise 1c -- Linear Regression with Quadratic Terms\n",
        "Using `generate_data(100, True)`, create two variables `y100_2` and `X100_2`. Then, repeat the steps from **Exercise 1b** above using `X100_2` and `y100_2` instead of `X_100` and `y_100`.  Call your new model `linear_model_2`.\n",
        "\n",
        "Answer the following questions in the Markdown cell below:\n",
        "\n",
        "1. What are the coefficient estimates? Are they similar to the coefficients from **Exercise 1b**? Why or why not?\n",
        "\n",
        "If your estimates were not similar, create a variable `X100_2_sq` in the third cell below that can be used instead of `X100_2` so that your estimates are similar again. Repeat the same process again but call your `lr_model_3`. Print your new estimated coefficients.\n",
        "\n",
        "In the markdown cell below, answer the following question:\n",
        "\n",
        "2. How did you modify `X100_2` to attain similar coefficients? Why did this work?"
      ]
    },
    {
      "cell_type": "code",
      "id": "be504991",
      "metadata": {
        "colab": {
          "base_uri": "https://localhost:8080/"
        },
        "id": "be504991",
        "outputId": "bdff1543-4e18-4b04-a5f5-2b8266d79039"
      },
      "source": [
        "# Exercise 1c -- generate variables and repeat regression fit\n",
        "# Create X100_2 and y100_2\n",
        "X100_2, y100_2 = generate_data(100, True)\n",
        "\n",
        "# Initialize model\n",
        "lr_model_2 = linear_model.LinearRegression(fit_intercept=False)\n",
        "\n",
        "# Fit model using X100_2 and y100_2\n",
        "lr_model_2.fit(X100_2, y100_2)\n",
        "\n",
        "# Print coefficients\n",
        "beta_0 = lr_model_2.intercept_\n",
        "beta_1 = lr_model_2.coef_[0]\n",
        "\n",
        "print(f\"lr_model_2: y = {beta_0:.4f} + {beta_1:.4f} X\")"
      ],
      "outputs": [
        {
          "output_type": "stream",
          "name": "stdout",
          "text": [
            "lr_model_2: y = 0.0000 + 3.4504 X\n"
          ]
        }
      ],
      "execution_count": 8
    },
    {
      "cell_type": "markdown",
      "id": "064117e4",
      "metadata": {
        "id": "064117e4"
      },
      "source": [
        "### Response to Exercise 1c -- Question 1\n",
        "Zachary: The constant is 0, the coefficent of X is usually between 3-5 (running the code mutliple times). The constant is the same but the X coefficent is not similar to that of Exercise 1b, it is much bigger. The y values this time have been generated and derived from X^2, so they are much larger and thus require a higher coefficient of X."
      ]
    },
    {
      "cell_type": "code",
      "id": "af3c6cd1",
      "metadata": {
        "colab": {
          "base_uri": "https://localhost:8080/"
        },
        "id": "af3c6cd1",
        "outputId": "8f1105b2-a6bb-4941-98b7-db9ce6248e5c"
      },
      "source": [
        "# Exercise 1c -- modify X100_2 and run new regression\n",
        "# Create X100_2_sq\n",
        "X100_2_sq = X100_2 ** 2\n",
        "\n",
        "# Initialize model\n",
        "lr_model_3 = linear_model.LinearRegression(fit_intercept=False)\n",
        "\n",
        "# Fit model using X100_2_sq and y100_2\n",
        "lr_model_3.fit(X100_2_sq, y100_2)\n",
        "\n",
        "# Print coefficients\n",
        "beta_0 = lr_model_3.intercept_\n",
        "beta_1 = lr_model_3.coef_[0]\n",
        "\n",
        "print(f\"lr_model_3: y = {beta_0:.4f} + {beta_1:.4f} X\")"
      ],
      "outputs": [
        {
          "output_type": "stream",
          "name": "stdout",
          "text": [
            "lr_model_3: y = 0.0000 + 1.0511 X\n"
          ]
        }
      ],
      "execution_count": 12
    },
    {
      "cell_type": "markdown",
      "id": "ad67e55d",
      "metadata": {
        "id": "ad67e55d"
      },
      "source": [
        "### Response to Exercise 1c -- Quesiton 2\n",
        "Zachary: I modified X100_2 by squaring it to give me X100_2_sq. The result is that the coefficient of X in lr_model_3 is close to 1 again. This works because The values of y100_2 are approximately the square of X100_2 plus a little. So, squaring X100_2 will give us values close to y100_2, hence why the new coefficient is roughly between 0.9 - 1.1."
      ]
    },
    {
      "cell_type": "markdown",
      "id": "bebaa1d3",
      "metadata": {
        "id": "bebaa1d3"
      },
      "source": [
        "### Exercise 1d -- Unnecessary Quadratic Terms\n",
        "Now we are going to see what happens when we estimate a model that only has linear terms using both linear and quadratic terms. Complete the following steps:\n",
        "1. Create an $nx3$ array called `X100_ext` by concatenating `X100` with a column that is equal to the square of elements in the second column. Make sure this new column is the third column. Note that `np.concatenate` requires that both arrays are of the same dimension. You may have to use the method [`.reshape()`](https://numpy.org/doc/stable/reference/generated/numpy.reshape.html).\n",
        "2. Now repeat the steps of **Exercise 1b** with `X100_ext`. Make sure you print the estimated coefficients.\n",
        "\n",
        "Answer the following questions in the Markdown cell below:\n",
        "1. Are the first two coefficients different from their respective counterparts in part **Exercise 1b**? Why do you think this is?\n",
        "2.  Is the third coeffcient close to 0 or large? Why do you think this is?\n",
        "3. Do you think these estimates are accurate?"
      ]
    },
    {
      "cell_type": "code",
      "id": "ba894f15",
      "metadata": {
        "scrolled": true,
        "id": "ba894f15"
      },
      "source": [
        "# Exercise 1d -- Create X100_ext here\n",
        "X100_ext = np.concatenate((X100[:,0].reshape(-1,1),\n",
        "                           X100[:,1].reshape(-1,1),\n",
        "                           (X100[:,1] ** 2).reshape(-1,1)), axis=1)"
      ],
      "outputs": [],
      "execution_count": 15
    },
    {
      "cell_type": "code",
      "id": "50115717",
      "metadata": {
        "id": "50115717",
        "colab": {
          "base_uri": "https://localhost:8080/"
        },
        "outputId": "02468015-4272-4c04-dae6-7f82a6162e2b"
      },
      "source": [
        "# Exercise 1d -- Repeat exercise 1b here\n",
        "# Initialize model\n",
        "lr_model_4 = linear_model.LinearRegression(fit_intercept=False)\n",
        "\n",
        "# Fit model using X100_ext and y100_2\n",
        "lr_model_4.fit(X100_ext, y100_2)\n",
        "\n",
        "# Print coefficients\n",
        "beta_0 = lr_model_4.intercept_\n",
        "beta_1 = lr_model_4.coef_[0]\n",
        "beta_2 = lr_model_4.coef_[1]\n",
        "\n",
        "print(f\"lr_model_4: y = {beta_0:.4f} + {beta_1:.4f} X1  {beta_2:.4f} X2\" )"
      ],
      "outputs": [
        {
          "output_type": "stream",
          "name": "stdout",
          "text": [
            "lr_model_4: y = 0.0000 + 3.3707 X1  -0.2291 X2\n"
          ]
        }
      ],
      "execution_count": 18
    },
    {
      "cell_type": "markdown",
      "id": "a18eab25",
      "metadata": {
        "id": "a18eab25"
      },
      "source": [
        "### Response to Exercise 1d\n",
        "* Q1. The first coefficient is the same as before (0 due to there being no intercept). The second coefficient is different from 1b but the same as 1c.\n",
        "* Q2. The third coefficient is close to 0. It might be that these X2 values are much larger so the coefficient needs to be near 0 to not impact y in the equation. With a coefficient near 0, X2 can take on larger values without affecting y too much.\n",
        "* Q3. These estimates are accurate. the higher coefficient of X1 exists because y values are approximately X1 values squared."
      ]
    },
    {
      "cell_type": "markdown",
      "id": "7b3fd11d",
      "metadata": {
        "id": "7b3fd11d"
      },
      "source": [
        "## Exercise 1e -- Regression Plots\n",
        "Following the notes in the plotting lectures complete the following steps:\n",
        "1. Using `subplots()` initialize a figure with 4 figures in a $2x2$ grid\n",
        "2. Plot the following in the indicated location.\n",
        "    - **Top-left**  -- a line plot of `lr_model_1` and a scatter plot of the data used to generate `lr_model_1`.\n",
        "    - **Bottom-left**  -- a line plot of `lr_model_2` and a scatter plot of the data used to generate `lr_model_2`\n",
        "    - **Bottom-right** -- a line plot of `lr_model_3` and a scatter plot of the data used to generate `lr_model_3`\n",
        "    - **Top-right** -- a line plot of `lr_model_4` and a scatter plot of the data used to generate `lr_model_4`\n",
        "    \n",
        "For the plots above,\n",
        "- make your lines red,\n",
        "- title your plots (e.g. \"Linear Model 1\"),\n",
        "- use `np.linspace(-4,4,200)` as your domain when plotting the lines,\n",
        "- call `fig.tight_layout()` so your plot is not cluttered\n",
        "\n",
        "3. Using the `metrics` submodule of `sklearn`, print the `in-sample` mean squared errors of each model using f strings. Your stings should looke like this: \"MSE of Linear Model 1 is .3\"  \n",
        "**Hints:** .\n",
        "- To plot on the top left axis, you will need to work with `axes.flat[0]` . The remaining axes are indexed by 1, 2, and 3.\n",
        "- If you choose to used the `.predict()` to plot your lines, keep in mind you need to provide it with the correctly shaped input.\n",
        "- When calculating the means within a loop, it may hep to create a list that contains the four linear models.\n"
      ]
    },
    {
      "cell_type": "code",
      "id": "06bb2cad",
      "metadata": {
        "scrolled": false,
        "colab": {
          "base_uri": "https://localhost:8080/",
          "height": 1000
        },
        "id": "06bb2cad",
        "outputId": "f6042640-7d38-48e4-b2cf-97533f8fd6e5"
      },
      "source": [
        "# Exercise 1e -- plots\n",
        "# Create domain for line plots\n",
        "domain = np.linspace(-4, 4, 200)\n",
        "\n",
        "# Intialize plots, 4 axes arranged in a 2x2 grid\n",
        "fig, axs = plt.subplots(2, 2, figsize=(12, 10))\n",
        "\n",
        "# Top-left plot\n",
        "axs.flat[0].scatter(X100[:,1], y100, color='blue', label='Data')\n",
        "axs.flat[0].set_title('Linear Model 1')\n",
        "axs.flat[0].legend()\n",
        "\n",
        "# Bottom-left plot\n",
        "axs.flat[1].scatter(X100_2[:,1], y100_2, color='blue', label='Data')\n",
        "axs.flat[1].set_title('Linear Model 2')\n",
        "axs.flat[1].legend()\n",
        "\n",
        "# Bottom-right plot\n",
        "axs.flat[2].scatter(X100_2_sq[:,1], y100_2, color='blue', label='Data')\n",
        "axs.flat[2].set_title('Linear Model 3')\n",
        "axs.flat[2].legend()\n",
        "\n",
        "# Top-right plot\n",
        "axs.flat[3].scatter(X100_ext[:,1], y100_2, color='blue', label='Data')\n",
        "axs.flat[3].set_title('Linear Model 4')\n",
        "axs.flat[3].legend()\n",
        "\n",
        "# Fix layout and show plot\n",
        "fig.tight_layout()\n",
        "plt.show()"
      ],
      "outputs": [
        {
          "output_type": "display_data",
          "data": {
            "text/plain": [
              "<Figure size 1200x1000 with 4 Axes>"
            ],
            "image/png": "[encoded data removed]"
          },
          "metadata": {}
        }
      ],
      "execution_count": 36
    },
    {
      "cell_type": "code",
      "id": "83de691e",
      "metadata": {
        "scrolled": true,
        "id": "83de691e",
        "colab": {
          "base_uri": "https://localhost:8080/"
        },
        "outputId": "77da9177-27f9-44d4-d459-24899b6bd458"
      },
      "source": [
        "# Exercise 1e -- mean squared errors\n",
        "# Import MSE\n",
        "from sklearn.metrics import mean_squared_error\n",
        "\n",
        "# Print MSE for each model\n",
        "y_pred_1 = lr_model_1.predict(X100)\n",
        "y_pred_2 = lr_model_2.predict(X100_2)\n",
        "y_pred_3 = lr_model_3.predict(X100_2_sq)\n",
        "y_pred_4 = lr_model_4.predict(X100_ext)\n",
        "\n",
        "print(f\"MSE of Linear Model 1 is {mean_squared_error(y100, y_pred_1):.1f}\")\n",
        "print(f\"MSE of Linear Model 2 is {mean_squared_error(y100_2, y_pred_2):.1f}\")\n",
        "print(f\"MSE of Linear Model 3 is {mean_squared_error(y100_2, y_pred_3):.1f}\")\n",
        "print(f\"MSE of Linear Model 4 is {mean_squared_error(y100_2, y_pred_4):.1f}\")"
      ],
      "outputs": [
        {
          "output_type": "stream",
          "name": "stdout",
          "text": [
            "MSE of Linear Model 1 is 0.1\n",
            "MSE of Linear Model 2 is 10.0\n",
            "MSE of Linear Model 3 is 0.1\n",
            "MSE of Linear Model 4 is 9.9\n"
          ]
        }
      ],
      "execution_count": 41
    },
    {
      "cell_type": "markdown",
      "id": "81baa272",
      "metadata": {
        "id": "81baa272"
      },
      "source": [
        "### Exercise 1f -- Functional Misspecification\n",
        "**Functional Misspecification** is used to describe the situation where the functional form of the regression model we are estimating is not the same as the functional form of the true data generating process. Answer the following question in the markdown cell below:\n",
        "- Which of the four linear models do you think are well-specified? Which ones are not? Is including extra terms problematic when it comes to being well-specified. What about excluding the terms found in the true data generating process?\n",
        "- How does misspecification manifest itself in the plots? How about in the mean squared errors?\n",
        "- After doing this exercise, do you think it is important to investigate the relationship between variables before determining your regression specification? Why or why not?"
      ]
    },
    {
      "cell_type": "markdown",
      "id": "03d3f378",
      "metadata": {
        "id": "03d3f378"
      },
      "source": [
        "### Response to Exercise 1f\n",
        "* LR 1 and LR 3 are well specified. LR 2 and LR 4 are not.\n",
        "* LR 2 and LR 4 have higher MSEs than LR 1 and 3.\n",
        "* Yes. it is important. LR 2 and LR 4 models are problematic because the X values do not have a linear relationship with y values. Using linear regression equation on them has caused problems. At the same time, it is also important to know other types of regressions that can be used in the case that X and y are not linearly related."
      ]
    },
    {
      "cell_type": "markdown",
      "id": "77c7d5c8",
      "metadata": {
        "id": "77c7d5c8"
      },
      "source": [
        "### Exercise 1g -- Lasso\n",
        "Finally, we will run lasso on our fake data. Complete the following steps:\n",
        "1. Generate `X1000` and `y1000` using `generate_data(1000)`\n",
        "2. Create an `1000x3` array called `X1000_ext` which is created in a anaglous fashion to `X100_ext`.\n",
        "3. Follow the lecture notes to create a standardized version of `X1000_ext` called `X1000_ext_scl`. You will need to import the `preprocessing` submodule of sklearn.\n",
        "4. Check to make sure your means and variances. You should see that everything looks good except for our intercept has a variance of $0$. You actually do not want to standardize an intercept but we still need it! Replace the first column of  `X1000_ext_scl` with a fresh column of ones using `np.ones(1000)`.\n",
        "5. Create a dataframe version of `X1000_ext_scl` called `X_lasso_df` and rename the columns to \"intercept\", \"x\", and \"x_sq\" respectively.Then call `X_lasso_df` at the bottom of the cell.\n",
        "6. Copy and paste the Lasso path code from the lecture notes into the second cell below. Adapt it so it works for `X_lasso_df` and `y1000`.\n",
        "\n",
        "\n",
        "In the Markdown cell below, answer the following questions:\n",
        "1. Characterize `X_sq`'s lasso path. Why was this behavior predictable?    Reference linear model 4 or the true DGP in your answer.\n",
        "2. Without checking, do you think a low or high value for alpha would be chosen by cross validation? To help you answer this question, think about what the true coefficients are and whether or not higher alphas bring the lasso coefficients closer to their true counterparts or farther away."
      ]
    },
    {
      "cell_type": "code",
      "id": "c250202b",
      "metadata": {
        "scrolled": false,
        "id": "c250202b",
        "colab": {
          "base_uri": "https://localhost:8080/",
          "height": 211
        },
        "outputId": "616d00e5-2caf-4fb9-efaa-44897d7156ed"
      },
      "source": [
        "# Exercise 1g -- Steps 1-5\n",
        "from sklearn import preprocessing\n",
        "\n",
        "X1000, y1000 = generate_data(1000)\n",
        "X1000_ext = np.concatenate((X1000.reshape(-1,1),\n",
        "                           (X1000 ** 2).reshape(-1,1),\n",
        "                            axis = 1)\n",
        "# X1000_ext_scl"
      ],
      "outputs": [
        {
          "output_type": "error",
          "ename": "NameError",
          "evalue": "name 'generate_data' is not defined",
          "traceback": [
            "\u001b[0;31m---------------------------------------------------------------------------\u001b[0m",
            "\u001b[0;31mNameError\u001b[0m                                 Traceback (most recent call last)",
            "\u001b[0;32m<ipython-input-1-c400edcd60c3>\u001b[0m in \u001b[0;36m<cell line: 4>\u001b[0;34m()\u001b[0m\n\u001b[1;32m      2\u001b[0m \u001b[0;32mfrom\u001b[0m \u001b[0msklearn\u001b[0m \u001b[0;32mimport\u001b[0m \u001b[0mpreprocessing\u001b[0m\u001b[0;34m\u001b[0m\u001b[0;34m\u001b[0m\u001b[0m\n\u001b[1;32m      3\u001b[0m \u001b[0;34m\u001b[0m\u001b[0m\n\u001b[0;32m----> 4\u001b[0;31m \u001b[0mX1000\u001b[0m\u001b[0;34m,\u001b[0m \u001b[0my1000\u001b[0m \u001b[0;34m=\u001b[0m \u001b[0mgenerate_data\u001b[0m\u001b[0;34m(\u001b[0m\u001b[0;36m1000\u001b[0m\u001b[0;34m)\u001b[0m\u001b[0;34m\u001b[0m\u001b[0;34m\u001b[0m\u001b[0m\n\u001b[0m\u001b[1;32m      5\u001b[0m \u001b[0mX1000_ext\u001b[0m \u001b[0;34m=\u001b[0m \u001b[0mnp\u001b[0m\u001b[0;34m.\u001b[0m\u001b[0mconcatenate\u001b[0m\u001b[0;34m(\u001b[0m\u001b[0;34m(\u001b[0m\u001b[0mX1000\u001b[0m \u001b[0;34m**\u001b[0m \u001b[0;36m2\u001b[0m\u001b[0;34m,\u001b[0m \u001b[0mX1000\u001b[0m \u001b[0;34m**\u001b[0m \u001b[0;36m3\u001b[0m\u001b[0;34m)\u001b[0m\u001b[0;34m,\u001b[0m \u001b[0maxis\u001b[0m \u001b[0;34m=\u001b[0m \u001b[0;36m1\u001b[0m\u001b[0;34m)\u001b[0m\u001b[0;34m\u001b[0m\u001b[0;34m\u001b[0m\u001b[0m\n\u001b[1;32m      6\u001b[0m \u001b[0mX1000_ext_scl\u001b[0m\u001b[0;34m\u001b[0m\u001b[0;34m\u001b[0m\u001b[0m\n",
            "\u001b[0;31mNameError\u001b[0m: name 'generate_data' is not defined"
          ]
        }
      ],
      "execution_count": null
    },
    {
      "cell_type": "code",
      "id": "4cfec5de",
      "metadata": {
        "scrolled": false,
        "id": "4cfec5de"
      },
      "source": [
        "# Exercise 1g -- Step 5 copy code here\n"
      ],
      "outputs": [],
      "execution_count": null
    }
  ],
  "metadata": {
    "kernelspec": {
      "display_name": "Python 3 (ipykernel)",
      "language": "python",
      "name": "python3"
    },
    "language_info": {
      "codemirror_mode": {
        "name": "ipython",
        "version": 3
      },
      "file_extension": ".py",
      "mimetype": "text/x-python",
      "name": "python",
      "nbconvert_exporter": "python",
      "pygments_lexer": "ipython3",
      "version": "3.9.15"
    },
    "colab": {
      "provenance": []
    }
  },
  "nbformat": 4,
  "nbformat_minor": 5
}