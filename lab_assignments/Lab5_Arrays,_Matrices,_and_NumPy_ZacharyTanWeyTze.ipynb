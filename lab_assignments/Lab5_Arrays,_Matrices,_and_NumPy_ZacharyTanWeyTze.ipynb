{
  "cells": [
    {
      "cell_type": "markdown",
      "id": "aa4602c3",
      "metadata": {
        "id": "aa4602c3"
      },
      "source": [
        "# Lab Assignment 5 -- Arrays, Matrices, and NumPy\n",
        "In this lab, you will complete a series of exercises related to the lecture material on arrays, matrices, and NumPy, You will have to do some calculations on a piece of paper or tablet -- submit either pictures or a PDF of your work with this Notebook."
      ]
    },
    {
      "cell_type": "markdown",
      "id": "36d604de",
      "metadata": {
        "id": "36d604de"
      },
      "source": [
        "Throughout this assignment, we will refer to the following arrays.\n",
        "$$\n",
        "A = \\left[\\begin{array}{ccc}\n",
        "1 & 5 & 3\\\\ 5 & -4 & 2\\\\ 3 & 2 & 1\n",
        "\\end{array}\\right], B = \\left[\\begin{array}{cccc}\n",
        "0 & 1 & 3 & 9\\\\ 6 & -1 & -2 & -9\\\\ 2 & 5 & 1 &2\n",
        "\\end{array}\\right], C = \\left[\\begin{array}{ccc}\n",
        "1 & 5 & -13\\\\ 7 & -7 & 7\\\\ 2 & -3 & 1 \\\\ 0 & 7 & -6\n",
        "\\end{array}\\right] \\\\ d = \\left[\\begin{array}{c}\n",
        "1 \\\\ -3\\\\ 2\n",
        "\\end{array}\\right], f= \\left[\\begin{array}{c}\n",
        "-2 \\\\ 4\\\\ 1\n",
        "\\end{array}\\right],g = \\left[\\begin{array}{c}\n",
        "-1 \\\\ 10 \\\\ -1\\\\ 5\n",
        "\\end{array}\\right]\n",
        "$$"
      ]
    },
    {
      "cell_type": "markdown",
      "id": "6814b00c",
      "metadata": {
        "id": "6814b00c"
      },
      "source": [
        "## Exercise 1 -- Defining Arrays\n",
        "Import `numpy` with the alias np and define the matrices above manually in the cell below. Make sure you define these carefully as subsequent responses will be incorrect otherwise.\n",
        "\n",
        "<span style=\"color: red;\"> **Be Careful!**</span>  After defining these objects, don't reassign these variable names to a different object for the rest of the assignment."
      ]
    },
    {
      "cell_type": "code",
      "execution_count": 1,
      "id": "1e9acd73",
      "metadata": {
        "id": "1e9acd73"
      },
      "outputs": [],
      "source": [
        "# Exercise 1 code\n",
        "import numpy as np\n",
        "\n",
        "# Define matrices\n",
        "A = np.array([[1, 5, 3], [5, -4, 2], [3, 2, 1]])\n",
        "B = np.array([[0, 1, 3, 9], [6, -1, -2, -9], [2, 5, 1, 2]])\n",
        "C = np.array([[1, 5, -13], [7, -7, 7], [2, -3, 1], [0, 7, -6]])\n",
        "d = np.array([1, -3, 2])\n",
        "f = np.array([-2, 4, 1])\n",
        "g = np.array([-1, 10, -1, 5])"
      ]
    },
    {
      "cell_type": "markdown",
      "id": "445dc79e",
      "metadata": {
        "id": "445dc79e"
      },
      "source": [
        "##  Exercise 2 -- Array Addition\n",
        "Is the operation $d + f$ possible? What about $d + g$? Why or why not? Answer in the markdown cell below. For each possible operation, print its result in the code cell below.\n"
      ]
    },
    {
      "cell_type": "code",
      "execution_count": 2,
      "id": "36bb39c3",
      "metadata": {
        "id": "36bb39c3",
        "colab": {
          "base_uri": "https://localhost:8080/"
        },
        "outputId": "f4b5191a-0e83-492f-a00e-99ecb3e19d01"
      },
      "outputs": [
        {
          "output_type": "stream",
          "name": "stdout",
          "text": [
            "The size of d is (3,)\n",
            "The size of f is (3,)\n",
            "The size of g is (4,)\n",
            "-------------------------\n",
            "d + f = [-1  1  3]\n"
          ]
        }
      ],
      "source": [
        "# Exercise 2 code\n",
        "print(f\"The size of d is\", d.shape)\n",
        "print(f\"The size of f is\", f.shape)\n",
        "print(f\"The size of g is\", g.shape)\n",
        "print(\"-------------------------\")\n",
        "print(f\"d + f =\", d + f)"
      ]
    },
    {
      "cell_type": "markdown",
      "id": "8dc481c1",
      "metadata": {
        "id": "8dc481c1"
      },
      "source": [
        "### Response to Exercise 2\n",
        "Zachary: The operation d + f is possible; the arrays are of the same size (3,). The operation d + g is not possible since g is not the same size as d. Trying to print d + g results in an error."
      ]
    },
    {
      "cell_type": "markdown",
      "id": "7cffe2ea",
      "metadata": {
        "id": "7cffe2ea"
      },
      "source": [
        "## Exercise 3 -- Dot Product\n",
        "On a piece of paper or tablet, **legibly** calculate the dot product of $d$ and $f$. Label your response as \"Solution to Exercise 3\". Show your work as we did in lecture. Check your solution by calling `np.dot()` in the cell below."
      ]
    },
    {
      "cell_type": "code",
      "execution_count": 3,
      "id": "f8328d5e",
      "metadata": {
        "id": "f8328d5e",
        "colab": {
          "base_uri": "https://localhost:8080/"
        },
        "outputId": "0290538c-34cd-4844-d2a0-b7b62b86263b"
      },
      "outputs": [
        {
          "output_type": "stream",
          "name": "stdout",
          "text": [
            "Manual calculation:\n",
            "= (1 * -2) + (-3 * 4) + (2 * 1)\n",
            "= (-2) + (-12) + (2)\n",
            "= -12\n",
            "Numpy calculation:\n",
            "The dot product of d and f is\n",
            "-12\n"
          ]
        }
      ],
      "source": [
        "# Exercise 3 code\n",
        "\n",
        "# Solution to Exercise 3\n",
        "print(\"Manual calculation:\")\n",
        "print(\"= (1 * -2) + (-3 * 4) + (2 * 1)\")\n",
        "print(\"= (-2) + (-12) + (2)\")\n",
        "print(\"= -12\")\n",
        "\n",
        "print(\"Numpy calculation:\")\n",
        "print(f\"The dot product of d and f is\")\n",
        "print(np.dot(d, f))"
      ]
    },
    {
      "cell_type": "markdown",
      "id": "1499a45d",
      "metadata": {
        "id": "1499a45d"
      },
      "source": [
        "## Exercise 4 -- Vector Slices\n",
        "Using only `g` and slice indexing, assign `[10 -1]` to `tiny_array`. What is the type of `tiny_array`? Why is this desirable behavior? Answer in Markdown."
      ]
    },
    {
      "cell_type": "code",
      "execution_count": 4,
      "id": "edaadcc6",
      "metadata": {
        "id": "edaadcc6",
        "colab": {
          "base_uri": "https://localhost:8080/"
        },
        "outputId": "19fb7494-df7c-419d-8460-cb4c5df23978"
      },
      "outputs": [
        {
          "output_type": "stream",
          "name": "stdout",
          "text": [
            "[10 -1]\n",
            "[10 -1]\n",
            "<class 'numpy.ndarray'>\n"
          ]
        }
      ],
      "source": [
        "# Exercise 4 code\n",
        "print(g[1:3])\n",
        "tiny_array = g[1:3]\n",
        "print(tiny_array)\n",
        "print(type(tiny_array))"
      ]
    },
    {
      "cell_type": "markdown",
      "id": "8e87d5fa",
      "metadata": {
        "id": "8e87d5fa"
      },
      "source": [
        "### Response to Exercise 4\n",
        "Zachary: tiny_array is a numpy ndarray. It is desirable because by using slice indexing on the array g, an array is also returned.\n"
      ]
    },
    {
      "cell_type": "markdown",
      "id": "bce70be0",
      "metadata": {
        "id": "bce70be0"
      },
      "source": [
        "## Exercise 5 -- Matrix Transposes and Addition\n",
        "On a piece of paper or tablet, **legibly** calculate the sum of $B$ and the transpose of $C$. Label your response as \"Solution to Exercise 5\". Show your work as we did in lecture.\n",
        "\n",
        "Check your solution in the cell below. Could we add $B$ and $C$? Answer in the Markdown cell below."
      ]
    },
    {
      "cell_type": "code",
      "execution_count": 5,
      "id": "5459f3a6",
      "metadata": {
        "scrolled": true,
        "id": "5459f3a6",
        "colab": {
          "base_uri": "https://localhost:8080/"
        },
        "outputId": "88e27de9-8e14-4f07-a352-b1e915096ccb"
      },
      "outputs": [
        {
          "output_type": "stream",
          "name": "stdout",
          "text": [
            "Manual calculation:\n",
            "= [0 + 1, 1 + 7, 3 + 2,  9 + 0],  [6 + 5,  -1 - 7, -2 - 3, -9 + 7], [2 - 13,  5 + 7, 1 + 1, 2 - 6]\n",
            "= [1, 8, 5, 9], [11, -8, -5, -2], [-11, 12, 2, -4]\n",
            "Numpy calculation:\n",
            "The sum of of B and the transpose of C is\n",
            "[[  1   8   5   9]\n",
            " [ 11  -8  -5  -2]\n",
            " [-11  12   2  -4]]\n"
          ]
        }
      ],
      "source": [
        "# Exercise 5 code\n",
        "\n",
        "# Solution to Exercise 5\n",
        "\n",
        "print(\"Manual calculation:\")\n",
        "print(\"= [0 + 1, 1 + 7, 3 + 2,  9 + 0],  [6 + 5,  -1 - 7, -2 - 3, -9 + 7], [2 - 13,  5 + 7, 1 + 1, 2 - 6]\")\n",
        "print(\"= [1, 8, 5, 9], [11, -8, -5, -2], [-11, 12, 2, -4]\")\n",
        "\n",
        "print(\"Numpy calculation:\")\n",
        "print(f\"The sum of of B and the transpose of C is\")\n",
        "print(B + C.T)"
      ]
    },
    {
      "cell_type": "markdown",
      "id": "73d9ee90",
      "metadata": {
        "id": "73d9ee90"
      },
      "source": [
        "### Response to Exercise 5"
      ]
    },
    {
      "cell_type": "markdown",
      "id": "9143d0da",
      "metadata": {
        "id": "9143d0da"
      },
      "source": [
        "## Exercise 6 -- Matrix Indexing\n",
        "Complete the following steps:\n",
        "- Define a variable `tiny_mat` and set it equal to `np.array([[-7, 7], [-3, 1]])`.\n",
        "- Using only `C` and slice-indexing, recreate `tiny_mat` and assign it to `tiny_mat_clone`.\n",
        "- Define a funcion called `compare_arrs` that takes two arrays and prints \"Arrays are the same!\" if the arrays are the same and \"Arrays are different!\" if the arrays are different.  \n",
        "- Call `compare_arrs` on `tiny_mat` and `tiny_mat_clone`.\n",
        "- Call `compare_arrs` on `np.array([1, 3, 4])` and `tiny_mat_clone`.\n",
        "\n",
        "\n",
        "**Hint:** Use `np.array_equal()` within `compare_arrs`."
      ]
    },
    {
      "cell_type": "code",
      "execution_count": 6,
      "id": "ccf0fe9b",
      "metadata": {
        "id": "ccf0fe9b",
        "colab": {
          "base_uri": "https://localhost:8080/"
        },
        "outputId": "da89ff9a-ed04-42e3-a481-2f674ead028a"
      },
      "outputs": [
        {
          "output_type": "stream",
          "name": "stdout",
          "text": [
            "[[-7  7]\n",
            " [-3  1]]\n",
            "[[-7  7]\n",
            " [-3  1]]\n"
          ]
        }
      ],
      "source": [
        "# Exercise 6 -- Define Matrices\n",
        "tiny_mat = np.array([[-7, 7], [-3, 1]])\n",
        "print(tiny_mat)\n",
        "\n",
        "tiny_mat_clone = np.c_[(tiny_mat[:,0]), (tiny_mat[:,1])] # slice each of the 2 rows and concatenate\n",
        "print(tiny_mat_clone)"
      ]
    },
    {
      "cell_type": "code",
      "execution_count": 7,
      "id": "5340e4cb",
      "metadata": {
        "id": "5340e4cb"
      },
      "outputs": [],
      "source": [
        "# Exercise 6 -- Define Function\n",
        "def compare_arrs(array1, array2):\n",
        "  if np.array_equal(array1, array2): # use np.array_equal because using == does not work\n",
        "    print(\"Arrays are the same!\")\n",
        "  else:\n",
        "    print(\"Arrays are different!\")"
      ]
    },
    {
      "cell_type": "code",
      "execution_count": 8,
      "id": "3e32c3ad",
      "metadata": {
        "scrolled": true,
        "id": "3e32c3ad",
        "colab": {
          "base_uri": "https://localhost:8080/"
        },
        "outputId": "d28d3a90-9350-4855-a593-86cb50146d80"
      },
      "outputs": [
        {
          "output_type": "stream",
          "name": "stdout",
          "text": [
            "Arrays are the same!\n",
            "Arrays are different!\n"
          ]
        }
      ],
      "source": [
        "# Exercise 6 -- Call compare_arrs\n",
        "compare_arrs(tiny_mat, tiny_mat_clone)\n",
        "compare_arrs(np.array([1, 3, 4]), tiny_mat_clone)"
      ]
    },
    {
      "cell_type": "markdown",
      "id": "fe3bbe39",
      "metadata": {
        "id": "fe3bbe39"
      },
      "source": [
        "## Exercise 7 -- Symmetric Matrices\n",
        "A **symmetric matrix** is a matrix that is equal to its transpose. Using your function `compare_arrs`, test whether `A`, `B`, and `C` are symmetric. What does it say about the symmetry of a matrix when \"Arrays are the same!\" is printed? Answer in the Markdown cell below."
      ]
    },
    {
      "cell_type": "code",
      "execution_count": 9,
      "id": "c6b6d501",
      "metadata": {
        "scrolled": true,
        "id": "c6b6d501",
        "colab": {
          "base_uri": "https://localhost:8080/"
        },
        "outputId": "53d8bb92-4b78-4d80-fb93-bbc5ca64c0a2"
      },
      "outputs": [
        {
          "output_type": "stream",
          "name": "stdout",
          "text": [
            "Arrays are the same!\n",
            "Arrays are different!\n",
            "Arrays are different!\n"
          ]
        }
      ],
      "source": [
        "# Exercise 7 code\n",
        "compare1 = compare_arrs(A, A.T)\n",
        "compare2 = compare_arrs(B, B.T)\n",
        "compare3 = compare_arrs(C, C.T)"
      ]
    },
    {
      "cell_type": "markdown",
      "id": "9a11d543",
      "metadata": {
        "id": "9a11d543"
      },
      "source": [
        "### Response to Exercise 7\n",
        "Zachary: When \"Arrays are the same!\" is printed, it says that that matrix is symmetrical. In this case, matrix A is symmetric, as matrix A is equal to its transpose when we compare the 2 in the function."
      ]
    },
    {
      "cell_type": "markdown",
      "id": "e1b4c19e",
      "metadata": {
        "id": "e1b4c19e"
      },
      "source": [
        "## Exercise 8 -- Matrix Concatenation\n",
        "We can glue or **concatenate** two arrays together using `np.vstack()` and `np.hstack()`. Each function takes a list of arrays as an argument. The former concatenates two arrays vertically (think of stacking rectangles on top of eachother) while the latter concatenates them horizontally (think of stacking rectangles side-by-side).\n",
        "\n",
        "Answer the following questions below:\n",
        "- If we call `np.vstack([A, B])` and it executes successfully, what must be true about the size of `A `and `B`?\n",
        "- If we call `np.hstack([A, B])` and it executes successfully, what must be true about the size of `A `and `B`?\n",
        "\n",
        "**Hint:** Try concatenating two arrays until you get an error. What does the error say?"
      ]
    },
    {
      "cell_type": "code",
      "execution_count": 10,
      "id": "30265351",
      "metadata": {
        "id": "30265351",
        "colab": {
          "base_uri": "https://localhost:8080/",
          "height": 401
        },
        "outputId": "cf39fda1-caa8-44ad-8ea4-ec57f7e266de"
      },
      "outputs": [
        {
          "output_type": "stream",
          "name": "stdout",
          "text": [
            "(3, 3)\n",
            "(3, 4)\n",
            "[[ 1  5  3  0  1  3  9]\n",
            " [ 5 -4  2  6 -1 -2 -9]\n",
            " [ 3  2  1  2  5  1  2]]\n"
          ]
        },
        {
          "output_type": "error",
          "ename": "ValueError",
          "evalue": "all the input array dimensions except for the concatenation axis must match exactly, but along dimension 1, the array at index 0 has size 3 and the array at index 1 has size 4",
          "traceback": [
            "\u001b[0;31m---------------------------------------------------------------------------\u001b[0m",
            "\u001b[0;31mValueError\u001b[0m                                Traceback (most recent call last)",
            "\u001b[0;32m<ipython-input-10-310058b75a08>\u001b[0m in \u001b[0;36m<cell line: 5>\u001b[0;34m()\u001b[0m\n\u001b[1;32m      3\u001b[0m \u001b[0mprint\u001b[0m\u001b[0;34m(\u001b[0m\u001b[0mB\u001b[0m\u001b[0;34m.\u001b[0m\u001b[0mshape\u001b[0m\u001b[0;34m)\u001b[0m\u001b[0;34m\u001b[0m\u001b[0;34m\u001b[0m\u001b[0m\n\u001b[1;32m      4\u001b[0m \u001b[0mprint\u001b[0m\u001b[0;34m(\u001b[0m\u001b[0mnp\u001b[0m\u001b[0;34m.\u001b[0m\u001b[0mhstack\u001b[0m\u001b[0;34m(\u001b[0m\u001b[0;34m[\u001b[0m\u001b[0mA\u001b[0m\u001b[0;34m,\u001b[0m \u001b[0mB\u001b[0m\u001b[0;34m]\u001b[0m\u001b[0;34m)\u001b[0m\u001b[0;34m)\u001b[0m\u001b[0;34m\u001b[0m\u001b[0;34m\u001b[0m\u001b[0m\n\u001b[0;32m----> 5\u001b[0;31m \u001b[0mprint\u001b[0m\u001b[0;34m(\u001b[0m\u001b[0mnp\u001b[0m\u001b[0;34m.\u001b[0m\u001b[0mvstack\u001b[0m\u001b[0;34m(\u001b[0m\u001b[0;34m[\u001b[0m\u001b[0mA\u001b[0m\u001b[0;34m,\u001b[0m \u001b[0mB\u001b[0m\u001b[0;34m]\u001b[0m\u001b[0;34m)\u001b[0m\u001b[0;34m)\u001b[0m\u001b[0;34m\u001b[0m\u001b[0;34m\u001b[0m\u001b[0m\n\u001b[0m",
            "\u001b[0;32m/usr/local/lib/python3.10/dist-packages/numpy/core/shape_base.py\u001b[0m in \u001b[0;36mvstack\u001b[0;34m(tup, dtype, casting)\u001b[0m\n\u001b[1;32m    287\u001b[0m     \u001b[0;32mif\u001b[0m \u001b[0;32mnot\u001b[0m \u001b[0misinstance\u001b[0m\u001b[0;34m(\u001b[0m\u001b[0marrs\u001b[0m\u001b[0;34m,\u001b[0m \u001b[0mlist\u001b[0m\u001b[0;34m)\u001b[0m\u001b[0;34m:\u001b[0m\u001b[0;34m\u001b[0m\u001b[0;34m\u001b[0m\u001b[0m\n\u001b[1;32m    288\u001b[0m         \u001b[0marrs\u001b[0m \u001b[0;34m=\u001b[0m \u001b[0;34m[\u001b[0m\u001b[0marrs\u001b[0m\u001b[0;34m]\u001b[0m\u001b[0;34m\u001b[0m\u001b[0;34m\u001b[0m\u001b[0m\n\u001b[0;32m--> 289\u001b[0;31m     \u001b[0;32mreturn\u001b[0m \u001b[0m_nx\u001b[0m\u001b[0;34m.\u001b[0m\u001b[0mconcatenate\u001b[0m\u001b[0;34m(\u001b[0m\u001b[0marrs\u001b[0m\u001b[0;34m,\u001b[0m \u001b[0;36m0\u001b[0m\u001b[0;34m,\u001b[0m \u001b[0mdtype\u001b[0m\u001b[0;34m=\u001b[0m\u001b[0mdtype\u001b[0m\u001b[0;34m,\u001b[0m \u001b[0mcasting\u001b[0m\u001b[0;34m=\u001b[0m\u001b[0mcasting\u001b[0m\u001b[0;34m)\u001b[0m\u001b[0;34m\u001b[0m\u001b[0;34m\u001b[0m\u001b[0m\n\u001b[0m\u001b[1;32m    290\u001b[0m \u001b[0;34m\u001b[0m\u001b[0m\n\u001b[1;32m    291\u001b[0m \u001b[0;34m\u001b[0m\u001b[0m\n",
            "\u001b[0;31mValueError\u001b[0m: all the input array dimensions except for the concatenation axis must match exactly, but along dimension 1, the array at index 0 has size 3 and the array at index 1 has size 4"
          ]
        }
      ],
      "source": [
        "# Exercise 8 -- Test vstack and hstack here as needed\n",
        "print(A.shape)\n",
        "print(B.shape)\n",
        "print(np.hstack([A, B]))\n",
        "print(np.vstack([A, B]))"
      ]
    },
    {
      "cell_type": "markdown",
      "id": "08e35010",
      "metadata": {
        "id": "08e35010"
      },
      "source": [
        "### Response to Exercise 8\n",
        "Zachary: np.hstack works but np.vstack does not. This shows that A and B have the same number of rows (3) but not columns. A has 3 columns while B has 4 columns, hence, vstack shows \"ValueError: all the input array dimensions except for the concatenation axis must match exactly, but along dimension 1, the array at index 0 has size 3 and the array at index 1 has size 4\"."
      ]
    },
    {
      "cell_type": "markdown",
      "id": "76713bcd",
      "metadata": {
        "id": "76713bcd"
      },
      "source": [
        "## Exercise 9 -- Element-Wise Multiplication\n",
        "On a piece of paper or tablet, **legibly** calculate the element-wise multiplication of $B$ and the transpose of $C$. Label your response as \"Solution to Exercise 9\". Show your work as we did in lecture.\n",
        "\n",
        "Check your solution in the cell below."
      ]
    },
    {
      "cell_type": "code",
      "execution_count": 11,
      "id": "a7148441",
      "metadata": {
        "id": "a7148441",
        "colab": {
          "base_uri": "https://localhost:8080/"
        },
        "outputId": "edcc77a2-881a-4203-bf87-b493d3a9c5e3"
      },
      "outputs": [
        {
          "output_type": "stream",
          "name": "stdout",
          "text": [
            "Manual calculation:\n",
            "= [0 * 1, 1 * 7, 3 * 2,  9 * 0],  [6 * 5,  -1 * -7, -2 * -3, -9 * 7], [2 * -13,  5 * 7, 1 * 1, 2 * -6]\n",
            "= [0, 7, 6, 0], [30, 7, 6, -63], [-26, 35, 1, -12]\n",
            "Numpy calculation:\n",
            "The element-wise multiplication of of B and the transpose of C is\n",
            "[[  0   7   6   0]\n",
            " [ 30   7   6 -63]\n",
            " [-26  35   1 -12]]\n"
          ]
        }
      ],
      "source": [
        "# Exercise 9 Code\n",
        "\n",
        "# Solution to Exercise 9\n",
        "\n",
        "print(\"Manual calculation:\")\n",
        "print(\"= [0 * 1, 1 * 7, 3 * 2,  9 * 0],  [6 * 5,  -1 * -7, -2 * -3, -9 * 7], [2 * -13,  5 * 7, 1 * 1, 2 * -6]\")\n",
        "print(\"= [0, 7, 6, 0], [30, 7, 6, -63], [-26, 35, 1, -12]\")\n",
        "\n",
        "print(\"Numpy calculation:\")\n",
        "print(f\"The element-wise multiplication of of B and the transpose of C is\")\n",
        "print(B * C.T)"
      ]
    },
    {
      "cell_type": "markdown",
      "id": "74af3830",
      "metadata": {
        "id": "74af3830"
      },
      "source": [
        "## Exercise 10 -- Matrix Multiplication\n",
        "On a piece of paper or tablet, **legibly** complete the following matrix multiplication (not element-wise multiplication!) exercise:\n",
        "$$A * B$$\n",
        "\n",
        "\n",
        "\n",
        "\n",
        "Label your response as \"Solution to Exercise 10\". Show your work as we did in lecture.\n",
        "\n",
        "Check your solution in the cell below uinsg `np.matmul()`."
      ]
    },
    {
      "cell_type": "code",
      "execution_count": 12,
      "id": "4e2798fb",
      "metadata": {
        "id": "4e2798fb",
        "colab": {
          "base_uri": "https://localhost:8080/"
        },
        "outputId": "ec324175-55fa-4b7a-dbc1-ad55aac9a53b"
      },
      "outputs": [
        {
          "output_type": "stream",
          "name": "stdout",
          "text": [
            "Manual calculation:\n",
            "= [1 x 0 + 5 x 6 + 3 x 2, 1 x 1 + 5 x (-1) + 3 x 5, 1 x 3 + 5 x (-2) + 3 x 1, 1 x 9 + 5 x (-9) + 3 x 2]\n",
            "[5 x 0 + (-4) x 6 + 2 x 2, 5 x 1 + (-4) x (-1) + 2 x 5, 5 x 3 + (-4) x (-2) + 2 x 1, 5 x 9 + (-4) x (-9) + 2 x 2]\n",
            "[3 x 0 + 2 x 6 + 1 x 2, 3 x 1 + 2 x (-1) + 1 x 5, 3 x 3 + 2 x (-2) + 1 x 1, 3 x 9 + 2 x (-9) + 1 x 2]\n",
            "= [36, 11, -4, -30]\n",
            "[-20, 19, 25, 85]\n",
            "[14, 6, 6, 11]\n",
            "Numpy calculation:\n",
            "The element-wise multiplication of of B and the transpose of C is\n",
            "[[ 36  11  -4 -30]\n",
            " [-20  19  25  85]\n",
            " [ 14   6   6  11]]\n"
          ]
        }
      ],
      "source": [
        "# Exercise 10 Code\n",
        "A = np.array([[1, 5, 3], [5, -4, 2], [3, 2, 1]])\n",
        "B = np.array([[0, 1, 3, 9], [6, -1, -2, -9], [2, 5, 1, 2]])\n",
        "# Solution to Exercise 10\n",
        "\n",
        "print(\"Manual calculation:\")\n",
        "print(\"= [1 x 0 + 5 x 6 + 3 x 2, 1 x 1 + 5 x (-1) + 3 x 5, 1 x 3 + 5 x (-2) + 3 x 1, 1 x 9 + 5 x (-9) + 3 x 2]\"),\n",
        "print(\"[5 x 0 + (-4) x 6 + 2 x 2, 5 x 1 + (-4) x (-1) + 2 x 5, 5 x 3 + (-4) x (-2) + 2 x 1, 5 x 9 + (-4) x (-9) + 2 x 2]\"),\n",
        "print(\"[3 x 0 + 2 x 6 + 1 x 2, 3 x 1 + 2 x (-1) + 1 x 5, 3 x 3 + 2 x (-2) + 1 x 1, 3 x 9 + 2 x (-9) + 1 x 2]\")\n",
        "print(\"= [36, 11, -4, -30]\")\n",
        "print(\"[-20, 19, 25, 85]\")\n",
        "print(\"[14, 6, 6, 11]\")\n",
        "\n",
        "print(\"Numpy calculation:\")\n",
        "print(f\"The element-wise multiplication of of B and the transpose of C is\")\n",
        "\n",
        "print(np.matmul(A, B))"
      ]
    },
    {
      "cell_type": "markdown",
      "id": "0ee66928",
      "metadata": {
        "id": "0ee66928"
      },
      "source": [
        "## Exercise 11 -- Plotting with `np.linspace`\n",
        "Using `numpy` and `matplotlib.pyplot`, plot the function `sin(log(x))`.\n",
        "Make sure you use a fine grid.\n",
        "\n",
        "**Hint:** Look at lectures for hints."
      ]
    },
    {
      "cell_type": "code",
      "execution_count": 13,
      "id": "ea993843",
      "metadata": {
        "id": "ea993843",
        "colab": {
          "base_uri": "https://localhost:8080/",
          "height": 611
        },
        "outputId": "7db5e92d-a187-48cc-f52b-2c99ebe24543"
      },
      "outputs": [
        {
          "output_type": "stream",
          "name": "stderr",
          "text": [
            "<ipython-input-13-40f424cb177f>:9: RuntimeWarning: divide by zero encountered in log\n",
            "  plt.plot(x, np.sin(np.log(x)), color = \"grey\")\n",
            "<ipython-input-13-40f424cb177f>:9: RuntimeWarning: invalid value encountered in sin\n",
            "  plt.plot(x, np.sin(np.log(x)), color = \"grey\")\n",
            "<ipython-input-13-40f424cb177f>:10: RuntimeWarning: divide by zero encountered in log\n",
            "  plt.scatter(x, np.sin(np.log(x)), color = \"grey\")\n",
            "<ipython-input-13-40f424cb177f>:10: RuntimeWarning: invalid value encountered in sin\n",
            "  plt.scatter(x, np.sin(np.log(x)), color = \"grey\")\n"
          ]
        },
        {
          "output_type": "display_data",
          "data": {
            "text/plain": [
              "<Figure size 640x480 with 1 Axes>"
            ],
            "image/png": "[encoded data removed]"
          },
          "metadata": {}
        }
      ],
      "source": [
        "# Exercise 11 Code\n",
        "import matplotlib.pyplot as plt\n",
        "import math as mt\n",
        "\n",
        "# Create a x values\n",
        "x = np.linspace(0, 50, num=50, endpoint=True, retstep=False, dtype=None, axis=0)\n",
        "\n",
        "# Plot function\n",
        "plt.plot(x, np.sin(np.log(x)), color = \"grey\")\n",
        "plt.scatter(x, np.sin(np.log(x)), color = \"grey\")\n",
        "\n",
        "# Add title, labels, and grid\n",
        "plt.title(\"Sin(Log(x)) Function\")\n",
        "plt.xlabel(\"x\")\n",
        "plt.ylabel(\"sin(log(x))\")\n",
        "plt.grid(True)\n",
        "\n",
        "plt.show()"
      ]
    },
    {
      "cell_type": "markdown",
      "id": "e9452e99",
      "metadata": {
        "id": "e9452e99"
      },
      "source": [
        "## Exercise 12 -- Multidimensional Arrays\n",
        "Run the following command `print(zeros((3,4,5)))` in the cell below and answer the following questions in the Markdown cell below.\n",
        "1. What do you think the dimensionality of this array is?  \n",
        "2. Why would writing this array on paper be difficult?\n",
        "\n"
      ]
    },
    {
      "cell_type": "code",
      "execution_count": 14,
      "id": "541190ea",
      "metadata": {
        "scrolled": true,
        "id": "541190ea",
        "colab": {
          "base_uri": "https://localhost:8080/"
        },
        "outputId": "0658c192-533c-4fbe-8ec3-45f8285eba82"
      },
      "outputs": [
        {
          "output_type": "stream",
          "name": "stdout",
          "text": [
            "[[[0. 0. 0. 0. 0.]\n",
            "  [0. 0. 0. 0. 0.]\n",
            "  [0. 0. 0. 0. 0.]\n",
            "  [0. 0. 0. 0. 0.]]\n",
            "\n",
            " [[0. 0. 0. 0. 0.]\n",
            "  [0. 0. 0. 0. 0.]\n",
            "  [0. 0. 0. 0. 0.]\n",
            "  [0. 0. 0. 0. 0.]]\n",
            "\n",
            " [[0. 0. 0. 0. 0.]\n",
            "  [0. 0. 0. 0. 0.]\n",
            "  [0. 0. 0. 0. 0.]\n",
            "  [0. 0. 0. 0. 0.]]]\n"
          ]
        }
      ],
      "source": [
        "# Exercise 12 Code\n",
        "print(np.zeros((3,4,5)))"
      ]
    },
    {
      "cell_type": "markdown",
      "id": "bb249cad",
      "metadata": {
        "id": "bb249cad"
      },
      "source": [
        "### Response to Exercise 12\n",
        "Zachary:\n",
        "\n",
        "Q1. I think this array is a 3 dimensional array.\n",
        "\n",
        "Q2. Writing this 3d array on paper is hard because the paper is a 2d surface. It is easy to write 1d and 2d arrays on paper because there is naturally rows and columns. However, in the case of 3d, paper lacks the additional dimension to represent it."
      ]
    }
  ],
  "metadata": {
    "kernelspec": {
      "display_name": "Python 3 (ipykernel)",
      "language": "python",
      "name": "python3"
    },
    "language_info": {
      "codemirror_mode": {
        "name": "ipython",
        "version": 3
      },
      "file_extension": ".py",
      "mimetype": "text/x-python",
      "name": "python",
      "nbconvert_exporter": "python",
      "pygments_lexer": "ipython3",
      "version": "3.9.15"
    },
    "colab": {
      "provenance": []
    }
  },
  "nbformat": 4,
  "nbformat_minor": 5
}