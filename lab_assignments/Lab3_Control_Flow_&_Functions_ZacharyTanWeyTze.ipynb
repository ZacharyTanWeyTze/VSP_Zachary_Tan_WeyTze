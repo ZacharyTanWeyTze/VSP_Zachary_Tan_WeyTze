{
  "cells": [
    {
      "cell_type": "markdown",
      "id": "b557d379",
      "metadata": {
        "id": "b557d379"
      },
      "source": [
        "# Lab Assignment 3 -- Control Flow & Functions\n",
        "In this lab, you will complete a series of exercises related to the lecture material on control flow and functions."
      ]
    },
    {
      "cell_type": "markdown",
      "id": "f2d3f549",
      "metadata": {
        "id": "f2d3f549"
      },
      "source": [
        "## Exercise 1a -- Divisible by n\n",
        "Define a function called `divisible_by_n()` that takes two inputs:\n",
        "- a range\n",
        "- a single integer (the n)\n",
        "\n",
        "By default, the single integer argument should be equal to 2 if only one argument is provided.\n",
        "\n",
        "You function should return a list of all numbers in the input range that are divisible by `n`.\n",
        "\n",
        "Include a function description for your function using docstrings.\n",
        "\n",
        "**Hints**\n",
        "- You can use `%` (for modular arithmetic) or you can use `math.round()` to check if a number is divisible by 3.\n",
        "- Think about whether you should to use a `for` loop or a `while` loop."
      ]
    },
    {
      "cell_type": "code",
      "id": "a6113693",
      "metadata": {
        "id": "a6113693"
      },
      "source": [
        "# Exercise 1a\n",
        "\n",
        "def divisible_by_n(num_range, n = 2):\n",
        "  \"\"\"\n",
        "  Returns a list of numbers from the input range that are divisible by n.\n",
        "\n",
        "  Parameters:\n",
        "  num_range: A range of numbers to check for divisibility.\n",
        "  n: The divisor. Default is 2.\n",
        "\n",
        "  Returns:\n",
        "  divis_list: A list of numbers from num_range that are divisible by n.\n",
        "  \"\"\"\n",
        "\n",
        "  divis_list = [] # initialize an empty list to store numbers divisible by n\n",
        "  for num in num_range: # iterate over each number in the given range\n",
        "    if num % n == 0:  # check if the current number is divisible by n\n",
        "      divis_list.append(num) # if divisible, append the number to the list\n",
        "\n",
        "  return divis_list # return the list of numbers that are divisible by n"
      ],
      "outputs": [],
      "execution_count": 1
    },
    {
      "cell_type": "code",
      "id": "c8c3a0a6",
      "metadata": {
        "colab": {
          "base_uri": "https://localhost:8080/"
        },
        "id": "c8c3a0a6",
        "outputId": "57ec8d7d-3af1-449d-9946-77f81c21f1dc"
      },
      "source": [
        "print(divisible_by_n(range(20)))"
      ],
      "outputs": [
        {
          "output_type": "stream",
          "name": "stdout",
          "text": [
            "[0, 2, 4, 6, 8, 10, 12, 14, 16, 18]\n"
          ]
        }
      ],
      "execution_count": 2
    },
    {
      "cell_type": "markdown",
      "id": "d8d77670",
      "metadata": {
        "id": "d8d77670"
      },
      "source": [
        "## Exercise 1b -- Big Lists\n",
        "`%timeit` in the code below is what is known as an IPython magic function. IPython stands for Interactive Python and simply refers to a version of the Python (and other coding languages) environment that has more functionality than the standard one. In particular, this functionality makes Python easier to interact with if we want to explore data, test functions, etc. Jupyter is built on IPython.\n",
        "\n",
        "`%timeit` runs the code that follows it many times to get a sense of how long the code takes to run. Below, we use it to time how long `divide_by_n` takes on two ranges of different lengths.\n",
        "\n",
        "Run the cell and answer the following questions in a Markdown cell:\n",
        "1. Which range takes longer to get through? By how many times longer does it take? Does this make sense to you? What does it say about how the time of computation is affected by the length of the range?\n",
        "2. Would your function work with a list instead of a range? Why or why not?\n",
        "\n",
        "**Hint:** $\\mu s$ means microseconds"
      ]
    },
    {
      "cell_type": "code",
      "id": "3de20bc7",
      "metadata": {
        "colab": {
          "base_uri": "https://localhost:8080/"
        },
        "id": "3de20bc7",
        "outputId": "3c3ffa9e-0854-4a66-9812-81c56b705a47"
      },
      "source": [
        "# Exercise 1b -- don't edit this cell\n",
        "\n",
        "# Measure the execution time of the divisible_by_n function\n",
        "%timeit divisible_by_n(range(1_001), 3)\n",
        "%timeit divisible_by_n(range(10_001), 3)"
      ],
      "outputs": [
        {
          "output_type": "stream",
          "name": "stdout",
          "text": [
            "111 µs ± 27.1 µs per loop (mean ± std. dev. of 7 runs, 10000 loops each)\n",
            "The slowest run took 5.19 times longer than the fastest. This could mean that an intermediate result is being cached.\n",
            "1.58 ms ± 1.27 ms per loop (mean ± std. dev. of 7 runs, 1000 loops each)\n"
          ]
        }
      ],
      "execution_count": 3
    },
    {
      "cell_type": "code",
      "source": [
        "# Ratio comparison\n",
        "mean_range_1k = int(111)\n",
        "mean_range_10k = int(1.58 * 1000)\n",
        "print(f\"1 : {round(mean_range_10k / mean_range_1k, 1)}\")"
      ],
      "metadata": {
        "colab": {
          "base_uri": "https://localhost:8080/"
        },
        "id": "fZ20Gghx8RCK",
        "outputId": "693c6ec1-4719-4909-959a-986c4e7e1748"
      },
      "id": "fZ20Gghx8RCK",
      "execution_count": 4,
      "outputs": [
        {
          "output_type": "stream",
          "name": "stdout",
          "text": [
            "1 : 14.2\n"
          ]
        }
      ]
    },
    {
      "cell_type": "markdown",
      "id": "d6fd32c2",
      "metadata": {
        "id": "d6fd32c2"
      },
      "source": [
        "### Response to 1b\n",
        "Zachary:\n",
        "\n",
        "Q1. The second range takes longer to get through. Dividing the mean of the second result by the mean of the first result, it takes about 14 times longer. Yes it makes sense to me that a larger range (1 to 10,000 vs 1 to 1,000) would require more time to get through (due to having more elements). I'd say that computation time increases at about the same rate as (linearly or proportionally) the length of the range increases. In the above cell, the second range is 10 times as large as the first range and took about 14 times longer to compute.\n",
        "\n",
        "Q2. Yes the function works with a list. Both list and range are iterable."
      ]
    },
    {
      "cell_type": "markdown",
      "id": "34af43ec",
      "metadata": {
        "id": "34af43ec"
      },
      "source": [
        "## Exercise 2 -- Function Objects vs. Function Calls\n",
        "`sum()` is a function that can take some iterables and return the sum of elements in that iterable. In the Markdown cell below, answer the following questions.\n",
        "1. What types is `sum`?\n",
        "2. What type is `sum([1,2,3])`? How about `sum([1,2.0,3])`?\n",
        "3. Are the types of these three objects the same or different? Why?\n",
        "4. What is the type of `print(\"hello\")`? Why?\n"
      ]
    },
    {
      "cell_type": "code",
      "id": "ce7e11cd",
      "metadata": {
        "colab": {
          "base_uri": "https://localhost:8080/"
        },
        "id": "ce7e11cd",
        "outputId": "adb43f08-4c71-497c-cd95-48485e73fd2c"
      },
      "source": [
        "# If needed, you can call the type function on these objects to help answer the question\n",
        "print(type(sum))\n",
        "\n",
        "print(sum([1,2,3]))\n",
        "print(type(sum([1,2,3])))\n",
        "\n",
        "print(sum([1,2.0,3]))\n",
        "print(type(sum([1,2.0,3])))\n",
        "\n",
        "print(\"hello\")\n",
        "print()\n",
        "print(print(\"hello\"))\n",
        "print(type(print(\"hello\")))"
      ],
      "outputs": [
        {
          "output_type": "stream",
          "name": "stdout",
          "text": [
            "<class 'builtin_function_or_method'>\n",
            "6\n",
            "<class 'int'>\n",
            "6.0\n",
            "<class 'float'>\n",
            "hello\n",
            "\n",
            "hello\n",
            "None\n",
            "hello\n",
            "<class 'NoneType'>\n"
          ]
        }
      ],
      "execution_count": 5
    },
    {
      "cell_type": "markdown",
      "id": "708ca789",
      "metadata": {
        "id": "708ca789"
      },
      "source": [
        "### Reponse to Exercise 2\n",
        "Zachary:\n",
        "\n",
        "Q1. It is a built-in function.\n",
        "\n",
        "Q2. They are integer and float types respectively.\n",
        "\n",
        "Q3. They are different types. The first object is the sum function but it is not being applied to anything. The second object is the sum function applied on a list of integers - an integer value 6 is returned. The third object is the sum function applied on a list of 2 integers and 1 float - a float value 6.0 is returned.\n",
        "\n",
        "Q4. It is a NoneType, meaning the object print(\"hello\") has no value. This happens because the inner print statement executes and prints/outputs the string \"hello\" to the console, but itself does not have a value or returns the value None."
      ]
    },
    {
      "cell_type": "markdown",
      "id": "18d0aa8e",
      "metadata": {
        "id": "18d0aa8e"
      },
      "source": [
        "# Exercise 3\n",
        "Exercise 3 is a series of six questions\n",
        "## Exercise 3a -- Factorial Function\n",
        "The factorial of an integer n (denoted n! in mathematics) is equal to itself multipled by all of the integers smaller than n. That is\n",
        "$$\n",
        "n! = n * (n-1) * (n-2) *...* 2 * 1\n",
        "$$\n",
        "where $0!$ is defined to be 1.\n",
        "\n",
        "The module `math` already has a factorial function, but you are going to build your own. In the cell below, define a function called `custom_factorial` that takes an integer as an input and returns the factorial of that integer. You must use a loop to calculate the factorial."
      ]
    },
    {
      "cell_type": "code",
      "id": "a6ae690f",
      "metadata": {
        "id": "a6ae690f"
      },
      "source": [
        "# Exercise 3a Code\n",
        "\n",
        "# Define function to calculate factorial. Initialize start to 1 since 0! == 1.\n",
        "def custom_factorial(n):\n",
        "    out = 1\n",
        "    for num in range(1, n + 1): # loop from 1 to n to calculate factorial\n",
        "        out = out * num # in each iteration, it multiplies the current value of out by the loop variable num\n",
        "\n",
        "    return out # return computed factorial once loop ends"
      ],
      "outputs": [],
      "execution_count": 6
    },
    {
      "cell_type": "code",
      "id": "bf8b5f15",
      "metadata": {
        "colab": {
          "base_uri": "https://localhost:8080/"
        },
        "id": "bf8b5f15",
        "outputId": "b2d48099-aace-4d3b-9dfa-18c924da5d84"
      },
      "source": [
        "# Calculate the factorial of 5\n",
        "custom_factorial(5)"
      ],
      "outputs": [
        {
          "output_type": "execute_result",
          "data": {
            "text/plain": [
              "120"
            ]
          },
          "metadata": {},
          "execution_count": 7
        }
      ],
      "execution_count": 7
    },
    {
      "cell_type": "markdown",
      "id": "6a76366f",
      "metadata": {
        "id": "6a76366f"
      },
      "source": [
        "## Exercise 3b -- Checking Your Work\n",
        "Using the `math` module's `factorial` function and a comparison operator, check that your function works for 10!.\n"
      ]
    },
    {
      "cell_type": "code",
      "id": "f52c5077",
      "metadata": {
        "colab": {
          "base_uri": "https://localhost:8080/"
        },
        "id": "f52c5077",
        "outputId": "3b53ab5b-e612-4cec-e598-f13de943a8e1"
      },
      "source": [
        "# Exercise 3b Code\n",
        "import math\n",
        "print(math.factorial(10))\n",
        "print(custom_factorial(10))\n",
        "math.factorial(10) == custom_factorial(10)"
      ],
      "outputs": [
        {
          "output_type": "stream",
          "name": "stdout",
          "text": [
            "3628800\n",
            "3628800\n"
          ]
        },
        {
          "output_type": "execute_result",
          "data": {
            "text/plain": [
              "True"
            ]
          },
          "metadata": {},
          "execution_count": 8
        }
      ],
      "execution_count": 8
    },
    {
      "cell_type": "markdown",
      "id": "d6933761",
      "metadata": {
        "id": "d6933761"
      },
      "source": [
        "## Exercise 3c -- Nondecreasing Functions\n",
        "A function $f$ is nondecreasing when $f(x) \\geq f(y)$  if and only if $x \\geq y$. Using `matplotlib.pyplot`, and your function plot the factorial function for $n = 0, 1, 2, 3, ..., 20$. You can plot a scatter plot or a line plot.\n",
        "\n",
        "In the Markdown cell below, give another example of a nondecreasing function.\n",
        "\n",
        "**Hint:** Use a a list comprehension."
      ]
    },
    {
      "cell_type": "code",
      "id": "297f61d9",
      "metadata": {
        "colab": {
          "base_uri": "https://localhost:8080/",
          "height": 462
        },
        "id": "297f61d9",
        "outputId": "bc781d7d-4ebd-48d1-c8c3-17c3a8072ca0"
      },
      "source": [
        "# Exercise 3c Code\n",
        "import matplotlib.pyplot as plt\n",
        "\n",
        "n_range = range(0, 20 + 1) # x coordinates\n",
        "factorial_values = [custom_factorial(x) for x in n_range] # y coordinates\n",
        "\n",
        "# Plot scatter graph\n",
        "plt.scatter(n_range, factorial_values)"
      ],
      "outputs": [
        {
          "output_type": "execute_result",
          "data": {
            "text/plain": [
              "<matplotlib.collections.PathCollection at 0x7b08abf8ec20>"
            ]
          },
          "metadata": {},
          "execution_count": 9
        },
        {
          "output_type": "display_data",
          "data": {
            "text/plain": [
              "<Figure size 640x480 with 1 Axes>"
            ],
            "image/png": "[encoded data removed]"
          },
          "metadata": {}
        }
      ],
      "execution_count": 9
    },
    {
      "cell_type": "code",
      "source": [
        "# Exercise 3c Part 2 Code\n",
        "def square(n):\n",
        "  return n ** 2\n",
        "\n",
        "n_range = range(0, 20 + 1) # x coordinates\n",
        "square_values = [square(x) for x in n_range] # y coordinates\n",
        "\n",
        "# Plot scatter graph\n",
        "plt.scatter(n_range, square_values, marker = '*', color = \"red\")"
      ],
      "metadata": {
        "colab": {
          "base_uri": "https://localhost:8080/",
          "height": 447
        },
        "id": "qHam5cTHxpoo",
        "outputId": "c4e88f91-967f-4d19-f9ff-8eb175871e78"
      },
      "id": "qHam5cTHxpoo",
      "execution_count": 10,
      "outputs": [
        {
          "output_type": "execute_result",
          "data": {
            "text/plain": [
              "<matplotlib.collections.PathCollection at 0x7b08a8bb9b70>"
            ]
          },
          "metadata": {},
          "execution_count": 10
        },
        {
          "output_type": "display_data",
          "data": {
            "text/plain": [
              "<Figure size 640x480 with 1 Axes>"
            ],
            "image/png": "[encoded data removed]"
          },
          "metadata": {}
        }
      ]
    },
    {
      "cell_type": "markdown",
      "id": "a97e10da",
      "metadata": {
        "id": "a97e10da"
      },
      "source": [
        "### Response to Exercise 3c\n",
        "Zachary: Another nondecreasing function is square. Wrote the example and graph above."
      ]
    },
    {
      "cell_type": "markdown",
      "id": "9f9b870c",
      "metadata": {
        "id": "9f9b870c"
      },
      "source": [
        "## Exercise 3d -- Finding the Smallest Integer\n",
        "For a generic nondecreasing function $f$, we might be interested in finding the smallest integer $n$ such that $f(n)$ is greater than or equal to some constant $c$. In the lecture we did this with $f(n) = n^2$, which is nondecreasing for $n \\geq 0$, and $c = 12345$.\n",
        "\n",
        "Now, define a function calld `find_smallest_int` that takes a starting value `start`, a function `f`, and a constant `c` as inputs. Recognizing that these correspond to the values above, have your function return two values: the smallest integer $n$ such that $f(n) \\geq c$ and the value of $f(n)$ for that integer.\n",
        "\n",
        "**Hint:** If you're stuck, try looking at the lecture."
      ]
    },
    {
      "cell_type": "code",
      "id": "025521ae",
      "metadata": {
        "id": "025521ae"
      },
      "source": [
        "# Exercise 3d Code\n",
        "def find_smallest_int(start, f, c):\n",
        "  '''\n",
        "  Find the smallest integer greater than or equal to 'start' such that the result of applying function 'f' to it is at least 'c'.\n",
        "\n",
        "  Parameters:\n",
        "  start (int): The starting integer value.\n",
        "  f (function): A function that takes an integer and returns a numerical value.\n",
        "  c (number): The threshold value such that f(start) >= c.\n",
        "\n",
        "  Returns:\n",
        "  tuple: A tuple containing the smallest integer and the result of applying 'f' to it.\n",
        "  '''\n",
        "\n",
        "  while f(start) < c: # increment start by 1 until f(start) >= c\n",
        "    start += 1\n",
        "\n",
        "  return start, f(start) # return the smallest integer and the result of applying 'f' to it"
      ],
      "outputs": [],
      "execution_count": 11
    },
    {
      "cell_type": "code",
      "id": "6622a652",
      "metadata": {
        "id": "6622a652",
        "colab": {
          "base_uri": "https://localhost:8080/"
        },
        "outputId": "181bfb81-808a-4fa7-d60a-2787bb64948c"
      },
      "source": [
        "find_smallest_int(10, lambda x: x** 2, 400)"
      ],
      "outputs": [
        {
          "output_type": "execute_result",
          "data": {
            "text/plain": [
              "(20, 400)"
            ]
          },
          "metadata": {},
          "execution_count": 12
        }
      ],
      "execution_count": 12
    },
    {
      "cell_type": "markdown",
      "id": "c95a31db",
      "metadata": {
        "id": "c95a31db"
      },
      "source": [
        "## Exercise 3e -- Plugging in Your Function\n",
        "Now, use `find_smallest_int` and `custom_factorial` to find the smallest $n$ such that $n! \\geq 12,345$. Use a starting value of 0. Check your answer as we did in the lecture.\n"
      ]
    },
    {
      "cell_type": "code",
      "id": "fbb8967e",
      "metadata": {
        "id": "fbb8967e",
        "colab": {
          "base_uri": "https://localhost:8080/"
        },
        "outputId": "ca4b5f19-006b-4cf9-a458-ebb1887a06f6"
      },
      "source": [
        "# Exercise 3e Code\n",
        "find_smallest_int(0, custom_factorial, 12345)"
      ],
      "outputs": [
        {
          "output_type": "execute_result",
          "data": {
            "text/plain": [
              "(8, 40320)"
            ]
          },
          "metadata": {},
          "execution_count": 13
        }
      ],
      "execution_count": 13
    },
    {
      "cell_type": "markdown",
      "id": "c91fbc7a",
      "metadata": {
        "id": "c91fbc7a"
      },
      "source": [
        "## Exercise 3f -- Increasing n\n",
        "Now we wil time the speed and output of `find_smallest_int` with smaller and larger values of $c$ and two different functions: `custom_factorial` and and a lambda function that sqaures a single input.\n",
        "\n",
        "Answer the folowing questions in the Markdown cell below:\n",
        "1. Which function takes longer to run for a fixed value of $c$. Why do you think this is?\n",
        "2. What is the ratio between runtimes when fixing the function and varying $c$ from 1,000 to 10,000. How about 10,000 to 100,000? Compare this ratio to the ratio of smallest integers for those runs. Are they similar? Why or why not?  You will want to write some code to compare these values.\n"
      ]
    },
    {
      "cell_type": "code",
      "id": "a6081adb",
      "metadata": {
        "id": "a6081adb",
        "colab": {
          "base_uri": "https://localhost:8080/"
        },
        "outputId": "558c81e0-05cb-4f3d-f666-5d1c425a7653"
      },
      "source": [
        "# Exercise 1b -- don't edit this cell\n",
        "%timeit find_smallest_int(0, custom_factorial, 1_000)\n",
        "%timeit find_smallest_int(0, custom_factorial, 10_000)\n",
        "%timeit find_smallest_int(0, custom_factorial, 100_000)\n",
        "\n",
        "\n",
        "\n",
        "%timeit find_smallest_int(0, lambda x: x ** 2, 1_000)\n",
        "%timeit find_smallest_int(0, lambda x: x ** 2, 10_000)\n",
        "%timeit find_smallest_int(0, lambda x: x ** 2, 100_000)"
      ],
      "outputs": [
        {
          "output_type": "stream",
          "name": "stdout",
          "text": [
            "4.22 µs ± 76.4 ns per loop (mean ± std. dev. of 7 runs, 100000 loops each)\n",
            "5.31 µs ± 946 ns per loop (mean ± std. dev. of 7 runs, 100000 loops each)\n",
            "6.26 µs ± 1.54 µs per loop (mean ± std. dev. of 7 runs, 100000 loops each)\n",
            "14.1 µs ± 2.52 µs per loop (mean ± std. dev. of 7 runs, 100000 loops each)\n",
            "37.5 µs ± 442 ns per loop (mean ± std. dev. of 7 runs, 10000 loops each)\n",
            "135 µs ± 26.2 µs per loop (mean ± std. dev. of 7 runs, 10000 loops each)\n"
          ]
        }
      ],
      "execution_count": 14
    },
    {
      "cell_type": "code",
      "id": "5e96be8e",
      "metadata": {
        "scrolled": false,
        "id": "5e96be8e",
        "colab": {
          "base_uri": "https://localhost:8080/"
        },
        "outputId": "26937c38-f841-45c3-db2c-2b07e62707c8"
      },
      "source": [
        "# Compare ratios here\n",
        "\n",
        "# Factorial function, ratio of c = 1,000 vs c = 10,000\n",
        "mean_fn_c1k = 4.22\n",
        "mean_fn_c10k = 5.31\n",
        "print(f\"1 : {round(mean_fn_c10k / mean_fn_c1k, 1)}\")\n",
        "\n",
        "# Factorial function, ratio of c = 10,000 vs c = 100,000\n",
        "mean_fn_c10k = 5.31\n",
        "mean_fn_c100k = 6.26\n",
        "print(f\"1 : {round(mean_fn_c100k / mean_fn_c10k, 1)}\")\n",
        "\n",
        "# X square function, ratio of c = 1,000 vs c = 10,000\n",
        "mean_x2_c1k = 14.1\n",
        "mean_x2_c10k = 37.5\n",
        "print(f\"1 : {round(mean_x2_c10k / mean_x2_c1k, 1)}\")\n",
        "\n",
        "# X square function, ratio of c = 10,000 vs c = 100,000\n",
        "mean_x2_c10k = 37.5\n",
        "mean_x2_c100k = 135\n",
        "print(f\"1 : {round(mean_x2_c100k / mean_x2_c10k, 1)}\")"
      ],
      "outputs": [
        {
          "output_type": "stream",
          "name": "stdout",
          "text": [
            "1 : 1.3\n",
            "1 : 1.2\n",
            "1 : 2.7\n",
            "1 : 3.6\n"
          ]
        }
      ],
      "execution_count": 17
    },
    {
      "cell_type": "markdown",
      "id": "0429212c",
      "metadata": {
        "id": "0429212c"
      },
      "source": [
        "### Response to Exercise 3f\n",
        "Zachary:\n",
        "\n",
        "Q1. The lamba function that squares x takes longer to run for a fixed value of c. I cannot think of an explanation as it goes against my expectations. I expected that the finding the smallest integer for the factorial function would be longer as it is more complex.\n",
        "\n",
        "Q2. The ratio between runtimes when fixing the function and varying c from 1,000 to 10,000 is 1 : 2.7. When varying c from 10,000 to 100,000, the ratio is 1: 3.6. They are somewhat similar.\n",
        "\n",
        "When it comes to finding the smallest integer for the factorial function, the ratio between 1,000 and 10,000 is the same as the ratio between 10,000 and 100,000. This suggests runtime scales linearly.\n",
        "\n",
        "For the lamba function that squares x, the ratio increases when varying c. This suggests that runtime scales at an increasing rate (not linearly), maybe exponentially."
      ]
    },
    {
      "cell_type": "markdown",
      "id": "2987b626",
      "metadata": {
        "id": "2987b626"
      },
      "source": [
        "## Exercise 4 -- Fibonacci Sequence\n",
        "The Fibonacci Sequence is an infinite sequence of integers $X_0, X_1, X_2, X_3, ...$ defined as below\n",
        "\n",
        "$$\n",
        "X_0 = 0\n",
        "$$\n",
        "$$\n",
        "X_1 = 1\n",
        "$$\n",
        "$$\n",
        "\\hspace{3.66cm}X_t = X_{t-1} + X_{t-2} \\text{ for } t \\geq 2\n",
        "$$\n",
        "\n",
        "Below define a function called `fibo_seq` that takes $t$ as an input and returns $X_t$, the $t$-th element of the Fibonacci Sequence.\n"
      ]
    },
    {
      "cell_type": "code",
      "id": "af4f720b",
      "metadata": {
        "id": "af4f720b"
      },
      "source": [
        "## Exercise 4 Code\n",
        "def fibo_seq(t):\n",
        "  '''\n",
        "  This is a Fibonacci Sequence function that calculates a number as the sum of the two preceding ones.\n",
        "  '''\n",
        "  x = 0\n",
        "  if t == 0:\n",
        "    return 0\n",
        "  if t == 1:\n",
        "    return 1\n",
        "  xtm2 = 0\n",
        "  xtm1 = 1\n",
        "  for t in range(2, t+1):\n",
        "    x = xtm1 + xtm2\n",
        "    xtm2 = xtm1\n",
        "    xtm1 = x\n",
        "\n",
        "  return x"
      ],
      "outputs": [],
      "execution_count": 18
    },
    {
      "cell_type": "code",
      "id": "76c3597e",
      "metadata": {
        "id": "76c3597e",
        "colab": {
          "base_uri": "https://localhost:8080/"
        },
        "outputId": "360c0b5e-795f-4525-908e-33cf3e7d5f3f"
      },
      "source": [
        "print(fibo_seq(10))\n",
        "print(fibo_seq(11))\n",
        "print(fibo_seq(12))\n",
        "fibo_seq(10) + fibo_seq(11) == fibo_seq(12)"
      ],
      "outputs": [
        {
          "output_type": "stream",
          "name": "stdout",
          "text": [
            "55\n",
            "89\n",
            "144\n"
          ]
        },
        {
          "output_type": "execute_result",
          "data": {
            "text/plain": [
              "True"
            ]
          },
          "metadata": {},
          "execution_count": 19
        }
      ],
      "execution_count": 19
    },
    {
      "cell_type": "markdown",
      "id": "10cd6fbc",
      "metadata": {
        "id": "10cd6fbc"
      },
      "source": [
        "## Exercise 5 -- Palindrome Detector\n",
        "A palindrome is a word or phrase that is spelled the same backwards as it is forwards (ignoring spaces). Create a function called `is_palindrome` that takes a list of strings and returns a list of Boolean variables that indicate whether the respective string is a palindrome or not. **Ignore capitalization and spaces**.\n",
        "\n",
        "When you're ready, test your function out on the cell below where `palindromes` and `nonpalindromes` are defined. Your function should return `[True, True, True, True, True]` for the former and `[False, False, False]` for the latter.\n",
        "\n",
        "\n",
        "**Hints**\n",
        "- A method will help you get rid of the white space\n",
        "- Look up on Google how to reverse a string as the reverse method only exists for lists"
      ]
    },
    {
      "cell_type": "code",
      "id": "fa2d5b1a",
      "metadata": {
        "id": "fa2d5b1a"
      },
      "source": [
        "# Exercise 5 -- create is_palindrome function here\n",
        "# Apply the palindrome check to each word in the list. Remove capitalization with lower() and spaces with replace(). Reverse the word by slicing with [::-1].\n",
        "def is_palindrome(words):\n",
        "  return [word.lower().replace(\" \", \"\") == word.lower().replace(\" \", \"\")[::-1]\n",
        "        for word in words]"
      ],
      "outputs": [],
      "execution_count": 20
    },
    {
      "cell_type": "code",
      "id": "2334af93",
      "metadata": {
        "colab": {
          "base_uri": "https://localhost:8080/"
        },
        "id": "2334af93",
        "outputId": "1796bdfc-7cc7-4860-e898-5469da92def8"
      },
      "source": [
        "# Run this cell when you're ready -- do not edit it\n",
        "palindromes = [\"Radar\", \"Taco cat\", \"Stressed Desserts\", \"no Lemon no melon\", \"!??!!??!\"]\n",
        "nonpalindromes = [\"Hello World\", \"VSP\", \"Vancouver Canada\"]\n",
        "\n",
        "print(is_palindrome(palindromes))\n",
        "is_palindrome(nonpalindromes)"
      ],
      "outputs": [
        {
          "output_type": "stream",
          "name": "stdout",
          "text": [
            "[True, True, True, True, True]\n"
          ]
        },
        {
          "output_type": "execute_result",
          "data": {
            "text/plain": [
              "[False, False, False]"
            ]
          },
          "metadata": {},
          "execution_count": 21
        }
      ],
      "execution_count": 21
    },
    {
      "cell_type": "markdown",
      "id": "86aa87b3",
      "metadata": {
        "id": "86aa87b3"
      },
      "source": [
        "## Exercise 6 -- Comparison Operators & List Comprehensions\n",
        "Using `num_list` and list comprehensions, create three lists that correspond to the elements in num_list:\n",
        "1. `equal_list` whose elements should be true if the corresponding element in `num_list` is equal to 0 and false otherwise.\n",
        "2. `greater_list` whose elements should be true if the corresponding element in `num_list` is strictly greater than 0 and false otherwise.\n",
        "3. `lesser_list` whose elements should be true if the corresponding element in `num_list` is strictly less than 0 and false otherwise.\n",
        "4. Finally, using the three lists you generated, list comprehensions, and `zip()`, create `true_list` a list of length 7 where every element is true.\n",
        "\n",
        "**Hints for 4:**\n",
        "- `zip` can be used on more than two lists\n",
        "- use `or` within the list comprehension"
      ]
    },
    {
      "cell_type": "code",
      "id": "7a770f90",
      "metadata": {
        "colab": {
          "base_uri": "https://localhost:8080/"
        },
        "id": "7a770f90",
        "outputId": "c1c694bf-2c38-440b-8df8-6562143689b8"
      },
      "source": [
        "# Exercise 6 Code\n",
        "# Don't edit the line below\n",
        "num_list = [-5, -3, -1, 0, 1, 3, 5]\n",
        "\n",
        "# your code below here\n",
        "equal_list = [num == 0 for num in num_list] # check that number is exactly zero and iterate for all elements in num_list using for loop\n",
        "print(equal_list)\n",
        "\n",
        "greater_list = [num > 0 for num in num_list] # check that number is more than zero and iterate for all elements in num_list using for loop\n",
        "print(greater_list)\n",
        "\n",
        "lesser_list = [num < 0 for num in num_list] # check that number is less than zero and iterate for all elements in num_list using for loop\n",
        "print(lesser_list)\n",
        "\n",
        "true_list = [any(x) for x in zip(lesser_list, equal_list, greater_list)] # any() returns True if item elements in the 3 lists are True\n",
        "print(true_list)"
      ],
      "outputs": [
        {
          "output_type": "stream",
          "name": "stdout",
          "text": [
            "[False, False, False, True, False, False, False]\n",
            "[False, False, False, False, True, True, True]\n",
            "[True, True, True, False, False, False, False]\n",
            "[True, True, True, True, True, True, True]\n"
          ]
        }
      ],
      "execution_count": 22
    },
    {
      "cell_type": "markdown",
      "id": "c8b7d7b3",
      "metadata": {
        "id": "c8b7d7b3"
      },
      "source": [
        "## Exercise 7 -- List Comprehensions and Very Basic Plotting\n",
        "Complete the following steps in the cells below:\n",
        "1. Import the `math` module and give it an alias of `mt`.\n",
        "2. Import the `matplotlib.pyplot` module and give it an alias of `plt`.\n",
        "3. Create a variable named `num_range` and set it equal to a range of numbers from 0 to 1000 (including 1000).\n",
        "4. Using `num_range` and a list comprehension, create a list called `sine_list` that is equal to `sin((pi/100) * x)` for every `x` in the range `num_range`. (**Hint:** sin and pi are objects from the math library.)\n",
        "5. Finally, using `plt`, `num_range`, and `sine_list`, generate a line plot."
      ]
    },
    {
      "cell_type": "code",
      "id": "0f6bfae5",
      "metadata": {
        "colab": {
          "base_uri": "https://localhost:8080/",
          "height": 472
        },
        "id": "0f6bfae5",
        "outputId": "ca4d5ed1-cc30-47b5-b684-e654849e54b1"
      },
      "source": [
        "# Exercise 7 Code\n",
        "\n",
        "# Import required modules\n",
        "import math as mt\n",
        "import matplotlib.pyplot as plt\n",
        "\n",
        "num_range = range(1_001)\n",
        "sine_list = [mt.sin((mt.pi/100) * x) for x in num_range]\n",
        "\n",
        "# Plot x and y axis with num_range and sine_list\n",
        "plt.plot(num_range, sine_list)\n",
        "\n",
        "# Add title and labels\n",
        "plt.title(\"Sine Plot\")\n",
        "plt.xlabel(\"x\")\n",
        "plt.ylabel(\"sin((π/100) * x)\")\n",
        "\n",
        "# Display all plots\n",
        "plt.show()"
      ],
      "outputs": [
        {
          "output_type": "display_data",
          "data": {
            "text/plain": [
              "<Figure size 640x480 with 1 Axes>"
            ],
            "image/png": "[encoded data removed]"
          },
          "metadata": {}
        }
      ],
      "execution_count": 23
    }
  ],
  "metadata": {
    "kernelspec": {
      "display_name": "Python 3 (ipykernel)",
      "language": "python",
      "name": "python3"
    },
    "language_info": {
      "codemirror_mode": {
        "name": "ipython",
        "version": 3
      },
      "file_extension": ".py",
      "mimetype": "text/x-python",
      "name": "python",
      "nbconvert_exporter": "python",
      "pygments_lexer": "ipython3",
      "version": "3.9.15"
    },
    "colab": {
      "provenance": []
    }
  },
  "nbformat": 4,
  "nbformat_minor": 5
}